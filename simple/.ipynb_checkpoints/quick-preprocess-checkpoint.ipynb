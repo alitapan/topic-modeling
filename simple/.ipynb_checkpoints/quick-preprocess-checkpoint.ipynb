{
 "cells": [
  {
   "cell_type": "code",
   "execution_count": 65,
   "metadata": {},
   "outputs": [
    {
     "data": {
      "text/plain": [
       "'https://forum.fiverr.com/t/i-will-provide-your-niche-targeted-email-list-in-24-hours/532947'"
      ]
     },
     "execution_count": 65,
     "metadata": {},
     "output_type": "execute_result"
    }
   ],
   "source": [
    "data = []\n",
    "with open(\"saved_thread_urls.txt\") as txt:\n",
    "    data = txt.readlines()\n",
    "for i in range(len(data)):\n",
    "    data[i] = data[i][:-1]\n",
    "data = data[1:]\n",
    "data[1]"
   ]
  },
  {
   "cell_type": "code",
   "execution_count": 66,
   "metadata": {},
   "outputs": [],
   "source": [
    "clean_data = []\n",
    "# Get the thread_names\n",
    "for i in range(len(data)):\n",
    "    first_flag = False\n",
    "    temp = ''\n",
    "    for j in range(len(data[i])-1, 0, -1):\n",
    "        if data[i][j] == \"/\" and first_flag == True:\n",
    "            temp = temp[::-1]\n",
    "            break\n",
    "        elif data[i][j] == \"/\" and first_flag == False:\n",
    "            first_flag = True\n",
    "        elif first_flag == True:\n",
    "            if data[i][j] == \"-\":\n",
    "                temp = temp + \" \"\n",
    "            else:\n",
    "                temp = temp + (str(data[i][j]))\n",
    "    clean_data.append(temp)\n"
   ]
  },
  {
   "cell_type": "code",
   "execution_count": 67,
   "metadata": {},
   "outputs": [],
   "source": [
    "import pandas as pd"
   ]
  },
  {
   "cell_type": "code",
   "execution_count": 68,
   "metadata": {},
   "outputs": [
    {
     "data": {
      "text/html": [
       "<div>\n",
       "<style scoped>\n",
       "    .dataframe tbody tr th:only-of-type {\n",
       "        vertical-align: middle;\n",
       "    }\n",
       "\n",
       "    .dataframe tbody tr th {\n",
       "        vertical-align: top;\n",
       "    }\n",
       "\n",
       "    .dataframe thead th {\n",
       "        text-align: right;\n",
       "    }\n",
       "</style>\n",
       "<table border=\"1\" class=\"dataframe\">\n",
       "  <thead>\n",
       "    <tr style=\"text-align: right;\">\n",
       "      <th></th>\n",
       "      <th>thread_name</th>\n",
       "    </tr>\n",
       "  </thead>\n",
       "  <tbody>\n",
       "    <tr>\n",
       "      <th>0</th>\n",
       "      <td>great day level 2 pro seller awarded</td>\n",
       "    </tr>\n",
       "    <tr>\n",
       "      <th>1</th>\n",
       "      <td>i will provide your niche targeted email list ...</td>\n",
       "    </tr>\n",
       "    <tr>\n",
       "      <th>2</th>\n",
       "      <td>metadata could not have been saved mandatory m...</td>\n",
       "    </tr>\n",
       "    <tr>\n",
       "      <th>3</th>\n",
       "      <td>not getting responses to buyer request sen</td>\n",
       "    </tr>\n",
       "    <tr>\n",
       "      <th>4</th>\n",
       "      <td>how to reach 4 5 million viewers on tiktok mis...</td>\n",
       "    </tr>\n",
       "  </tbody>\n",
       "</table>\n",
       "</div>"
      ],
      "text/plain": [
       "                                         thread_name\n",
       "0               great day level 2 pro seller awarded\n",
       "1  i will provide your niche targeted email list ...\n",
       "2  metadata could not have been saved mandatory m...\n",
       "3         not getting responses to buyer request sen\n",
       "4  how to reach 4 5 million viewers on tiktok mis..."
      ]
     },
     "execution_count": 68,
     "metadata": {},
     "output_type": "execute_result"
    }
   ],
   "source": [
    "df = pd.DataFrame(clean_data)\n",
    "df.columns = [\"thread_name\"]\n",
    "df.head()"
   ]
  },
  {
   "cell_type": "code",
   "execution_count": 75,
   "metadata": {},
   "outputs": [],
   "source": [
    "from datetime import datetime\n",
    "filename = str(datetime.now()).split(\" \")[0] + \".csv\""
   ]
  },
  {
   "cell_type": "code",
   "execution_count": 76,
   "metadata": {},
   "outputs": [],
   "source": [
    "df.to_csv(\"data/your_fiverr_experience/\" + filename, index = False, encoding='utf=8')"
   ]
  },
  {
   "cell_type": "code",
   "execution_count": 77,
   "metadata": {},
   "outputs": [],
   "source": [
    "df_pre_covid = df[:23095]\n",
    "df_post_covid = df[2305:]"
   ]
  },
  {
   "cell_type": "code",
   "execution_count": 81,
   "metadata": {},
   "outputs": [],
   "source": [
    "df_pre_covid.to_csv(\"data/your_fiverr_experience/processed/pre-covid/\" + filename, index = False, encoding='utf=8')\n",
    "df_post_covid.to_csv(\"data/your_fiverr_experience/processed/post-covid/\" + filename, index = False, encoding='utf=8')"
   ]
  }
 ],
 "metadata": {
  "kernelspec": {
   "display_name": "Python 3",
   "language": "python",
   "name": "python3"
  },
  "language_info": {
   "codemirror_mode": {
    "name": "ipython",
    "version": 3
   },
   "file_extension": ".py",
   "mimetype": "text/x-python",
   "name": "python",
   "nbconvert_exporter": "python",
   "pygments_lexer": "ipython3",
   "version": "3.8.3"
  }
 },
 "nbformat": 4,
 "nbformat_minor": 4
}
