{
 "cells": [
  {
   "cell_type": "code",
   "execution_count": 105,
   "metadata": {},
   "outputs": [],
   "source": [
    "# Imports\n",
    "import zipfile\n",
    "import pandas as pd\n",
    "from datetime import datetime"
   ]
  },
  {
   "cell_type": "code",
   "execution_count": 106,
   "metadata": {},
   "outputs": [],
   "source": [
    "path_to_file = 'data/covid-19_discussions/2020-10-11.zip'\n",
    "path_to_extraction = 'data/covid-19_discussions/'\n",
    "path_to_output = path_to_extraction + 'processed/'"
   ]
  },
  {
   "cell_type": "code",
   "execution_count": 107,
   "metadata": {},
   "outputs": [],
   "source": [
    "# Unzip the file\n",
    "with zipfile.ZipFile(path_to_file, 'r') as zip_ref:\n",
    "    zip_ref.extractall(path_to_extraction)"
   ]
  },
  {
   "cell_type": "code",
   "execution_count": 108,
   "metadata": {},
   "outputs": [],
   "source": [
    "# Import dataframe\n",
    "df = pd.read_csv(path_to_file[:-4] + \".csv\", dtype={'total_likes': str, 'latest_thread_edit_date': str})"
   ]
  },
  {
   "cell_type": "code",
   "execution_count": 109,
   "metadata": {},
   "outputs": [
    {
     "data": {
      "text/html": [
       "<div>\n",
       "<style scoped>\n",
       "    .dataframe tbody tr th:only-of-type {\n",
       "        vertical-align: middle;\n",
       "    }\n",
       "\n",
       "    .dataframe tbody tr th {\n",
       "        vertical-align: top;\n",
       "    }\n",
       "\n",
       "    .dataframe thead th {\n",
       "        text-align: right;\n",
       "    }\n",
       "</style>\n",
       "<table border=\"1\" class=\"dataframe\">\n",
       "  <thead>\n",
       "    <tr style=\"text-align: right;\">\n",
       "      <th></th>\n",
       "      <th>thread_name</th>\n",
       "      <th>categories</th>\n",
       "      <th>replies</th>\n",
       "      <th>views</th>\n",
       "      <th>total_likes</th>\n",
       "      <th>creation_date</th>\n",
       "      <th>first_reply_date</th>\n",
       "      <th>last_reply_date</th>\n",
       "      <th>thread_url</th>\n",
       "      <th>frequent_posters</th>\n",
       "      <th>...</th>\n",
       "      <th>thread_text</th>\n",
       "      <th>thread_images</th>\n",
       "      <th>thread_edits</th>\n",
       "      <th>latest_thread_edit_date</th>\n",
       "      <th>reply_author</th>\n",
       "      <th>reply_likes</th>\n",
       "      <th>reply_text</th>\n",
       "      <th>reply_images</th>\n",
       "      <th>reply_date</th>\n",
       "      <th>crawl_date</th>\n",
       "    </tr>\n",
       "  </thead>\n",
       "  <tbody>\n",
       "    <tr>\n",
       "      <th>0</th>\n",
       "      <td>About the COVID-19 Discussions category</td>\n",
       "      <td>COVID-19 Discussions</td>\n",
       "      <td>25</td>\n",
       "      <td>910</td>\n",
       "      <td>182</td>\n",
       "      <td>2020-03-26 12:19:00</td>\n",
       "      <td>Mar 26, 2020 12:40 pm</td>\n",
       "      <td>Sep 19, 2020 2:26 pm</td>\n",
       "      <td>https://forum.fiverr.com/t/about-the-covid-19-...</td>\n",
       "      <td>mic_explainer, makebossmoves, freelancerbkas, ...</td>\n",
       "      <td>...</td>\n",
       "      <td>I’ve created this category to be a lightning r...</td>\n",
       "      <td>NaN</td>\n",
       "      <td>1.0</td>\n",
       "      <td>Mar 26, 2020 12:24 pm</td>\n",
       "      <td>mic_explainer</td>\n",
       "      <td>16.0</td>\n",
       "      <td>@mjensen415 may God protect us all\\nBasically ...</td>\n",
       "      <td>NaN</td>\n",
       "      <td>Mar 26, 2020 12:40 pm</td>\n",
       "      <td>2020-10-11 19:18:21.463372</td>\n",
       "    </tr>\n",
       "    <tr>\n",
       "      <th>1</th>\n",
       "      <td>About the COVID-19 Discussions category</td>\n",
       "      <td>COVID-19 Discussions</td>\n",
       "      <td>25</td>\n",
       "      <td>910</td>\n",
       "      <td>182</td>\n",
       "      <td>2020-03-26 12:19:00</td>\n",
       "      <td>Mar 26, 2020 12:40 pm</td>\n",
       "      <td>Sep 19, 2020 2:26 pm</td>\n",
       "      <td>https://forum.fiverr.com/t/about-the-covid-19-...</td>\n",
       "      <td>mic_explainer, makebossmoves, freelancerbkas, ...</td>\n",
       "      <td>...</td>\n",
       "      <td>I’ve created this category to be a lightning r...</td>\n",
       "      <td>NaN</td>\n",
       "      <td>1.0</td>\n",
       "      <td>Mar 26, 2020 12:24 pm</td>\n",
       "      <td>freelancerbkas</td>\n",
       "      <td>18.0</td>\n",
       "      <td>Our country is a densely populated country. Th...</td>\n",
       "      <td>NaN</td>\n",
       "      <td>Mar 27, 2020 3:15 am</td>\n",
       "      <td>2020-10-11 19:18:21.871712</td>\n",
       "    </tr>\n",
       "    <tr>\n",
       "      <th>2</th>\n",
       "      <td>About the COVID-19 Discussions category</td>\n",
       "      <td>COVID-19 Discussions</td>\n",
       "      <td>25</td>\n",
       "      <td>910</td>\n",
       "      <td>182</td>\n",
       "      <td>2020-03-26 12:19:00</td>\n",
       "      <td>Mar 26, 2020 12:40 pm</td>\n",
       "      <td>Sep 19, 2020 2:26 pm</td>\n",
       "      <td>https://forum.fiverr.com/t/about-the-covid-19-...</td>\n",
       "      <td>mic_explainer, makebossmoves, freelancerbkas, ...</td>\n",
       "      <td>...</td>\n",
       "      <td>I’ve created this category to be a lightning r...</td>\n",
       "      <td>NaN</td>\n",
       "      <td>1.0</td>\n",
       "      <td>Mar 26, 2020 12:24 pm</td>\n",
       "      <td>mic_explainer</td>\n",
       "      <td>8.0</td>\n",
       "      <td>@freelancerbkas You’re from which country?</td>\n",
       "      <td>NaN</td>\n",
       "      <td>Mar 28, 2020 8:23 am</td>\n",
       "      <td>2020-10-11 19:18:22.260357</td>\n",
       "    </tr>\n",
       "    <tr>\n",
       "      <th>3</th>\n",
       "      <td>About the COVID-19 Discussions category</td>\n",
       "      <td>COVID-19 Discussions</td>\n",
       "      <td>25</td>\n",
       "      <td>910</td>\n",
       "      <td>182</td>\n",
       "      <td>2020-03-26 12:19:00</td>\n",
       "      <td>Mar 26, 2020 12:40 pm</td>\n",
       "      <td>Sep 19, 2020 2:26 pm</td>\n",
       "      <td>https://forum.fiverr.com/t/about-the-covid-19-...</td>\n",
       "      <td>mic_explainer, makebossmoves, freelancerbkas, ...</td>\n",
       "      <td>...</td>\n",
       "      <td>I’ve created this category to be a lightning r...</td>\n",
       "      <td>NaN</td>\n",
       "      <td>1.0</td>\n",
       "      <td>Mar 26, 2020 12:24 pm</td>\n",
       "      <td>freelancerbkas</td>\n",
       "      <td>14.0</td>\n",
       "      <td>I am from Bangladesh.</td>\n",
       "      <td>NaN</td>\n",
       "      <td>Mar 28, 2020 11:39 am</td>\n",
       "      <td>2020-10-11 19:18:22.671560</td>\n",
       "    </tr>\n",
       "    <tr>\n",
       "      <th>4</th>\n",
       "      <td>About the COVID-19 Discussions category</td>\n",
       "      <td>COVID-19 Discussions</td>\n",
       "      <td>25</td>\n",
       "      <td>910</td>\n",
       "      <td>182</td>\n",
       "      <td>2020-03-26 12:19:00</td>\n",
       "      <td>Mar 26, 2020 12:40 pm</td>\n",
       "      <td>Sep 19, 2020 2:26 pm</td>\n",
       "      <td>https://forum.fiverr.com/t/about-the-covid-19-...</td>\n",
       "      <td>mic_explainer, makebossmoves, freelancerbkas, ...</td>\n",
       "      <td>...</td>\n",
       "      <td>I’ve created this category to be a lightning r...</td>\n",
       "      <td>NaN</td>\n",
       "      <td>1.0</td>\n",
       "      <td>Mar 26, 2020 12:24 pm</td>\n",
       "      <td>mic_explainer</td>\n",
       "      <td>8.0</td>\n",
       "      <td>OK bro, may God watch over us all! mashallar.</td>\n",
       "      <td>NaN</td>\n",
       "      <td>Mar 28, 2020 4:32 pm</td>\n",
       "      <td>2020-10-11 19:18:23.065066</td>\n",
       "    </tr>\n",
       "  </tbody>\n",
       "</table>\n",
       "<p>5 rows × 22 columns</p>\n",
       "</div>"
      ],
      "text/plain": [
       "                               thread_name            categories  replies  \\\n",
       "0  About the COVID-19 Discussions category  COVID-19 Discussions       25   \n",
       "1  About the COVID-19 Discussions category  COVID-19 Discussions       25   \n",
       "2  About the COVID-19 Discussions category  COVID-19 Discussions       25   \n",
       "3  About the COVID-19 Discussions category  COVID-19 Discussions       25   \n",
       "4  About the COVID-19 Discussions category  COVID-19 Discussions       25   \n",
       "\n",
       "  views total_likes       creation_date       first_reply_date  \\\n",
       "0   910         182 2020-03-26 12:19:00  Mar 26, 2020 12:40 pm   \n",
       "1   910         182 2020-03-26 12:19:00  Mar 26, 2020 12:40 pm   \n",
       "2   910         182 2020-03-26 12:19:00  Mar 26, 2020 12:40 pm   \n",
       "3   910         182 2020-03-26 12:19:00  Mar 26, 2020 12:40 pm   \n",
       "4   910         182 2020-03-26 12:19:00  Mar 26, 2020 12:40 pm   \n",
       "\n",
       "        last_reply_date                                         thread_url  \\\n",
       "0  Sep 19, 2020 2:26 pm  https://forum.fiverr.com/t/about-the-covid-19-...   \n",
       "1  Sep 19, 2020 2:26 pm  https://forum.fiverr.com/t/about-the-covid-19-...   \n",
       "2  Sep 19, 2020 2:26 pm  https://forum.fiverr.com/t/about-the-covid-19-...   \n",
       "3  Sep 19, 2020 2:26 pm  https://forum.fiverr.com/t/about-the-covid-19-...   \n",
       "4  Sep 19, 2020 2:26 pm  https://forum.fiverr.com/t/about-the-covid-19-...   \n",
       "\n",
       "                                    frequent_posters  ...  \\\n",
       "0  mic_explainer, makebossmoves, freelancerbkas, ...  ...   \n",
       "1  mic_explainer, makebossmoves, freelancerbkas, ...  ...   \n",
       "2  mic_explainer, makebossmoves, freelancerbkas, ...  ...   \n",
       "3  mic_explainer, makebossmoves, freelancerbkas, ...  ...   \n",
       "4  mic_explainer, makebossmoves, freelancerbkas, ...  ...   \n",
       "\n",
       "                                         thread_text  thread_images  \\\n",
       "0  I’ve created this category to be a lightning r...            NaN   \n",
       "1  I’ve created this category to be a lightning r...            NaN   \n",
       "2  I’ve created this category to be a lightning r...            NaN   \n",
       "3  I’ve created this category to be a lightning r...            NaN   \n",
       "4  I’ve created this category to be a lightning r...            NaN   \n",
       "\n",
       "  thread_edits latest_thread_edit_date    reply_author reply_likes  \\\n",
       "0          1.0   Mar 26, 2020 12:24 pm   mic_explainer        16.0   \n",
       "1          1.0   Mar 26, 2020 12:24 pm  freelancerbkas        18.0   \n",
       "2          1.0   Mar 26, 2020 12:24 pm   mic_explainer         8.0   \n",
       "3          1.0   Mar 26, 2020 12:24 pm  freelancerbkas        14.0   \n",
       "4          1.0   Mar 26, 2020 12:24 pm   mic_explainer         8.0   \n",
       "\n",
       "                                          reply_text  reply_images  \\\n",
       "0  @mjensen415 may God protect us all\\nBasically ...           NaN   \n",
       "1  Our country is a densely populated country. Th...           NaN   \n",
       "2         @freelancerbkas You’re from which country?           NaN   \n",
       "3                              I am from Bangladesh.           NaN   \n",
       "4      OK bro, may God watch over us all! mashallar.           NaN   \n",
       "\n",
       "              reply_date                  crawl_date  \n",
       "0  Mar 26, 2020 12:40 pm  2020-10-11 19:18:21.463372  \n",
       "1   Mar 27, 2020 3:15 am  2020-10-11 19:18:21.871712  \n",
       "2   Mar 28, 2020 8:23 am  2020-10-11 19:18:22.260357  \n",
       "3  Mar 28, 2020 11:39 am  2020-10-11 19:18:22.671560  \n",
       "4   Mar 28, 2020 4:32 pm  2020-10-11 19:18:23.065066  \n",
       "\n",
       "[5 rows x 22 columns]"
      ]
     },
     "execution_count": 109,
     "metadata": {},
     "output_type": "execute_result"
    }
   ],
   "source": [
    "# Convert the creation_date column to datetime format for the dataframe\n",
    "df['creation_date']= pd.to_datetime(df.creation_date)\n",
    "df.head()"
   ]
  },
  {
   "cell_type": "markdown",
   "metadata": {},
   "source": [
    "Pre-covid posts: June 2019 - February 2020\n",
    "<br>Post-covid posts: March 2020 - Present"
   ]
  },
  {
   "cell_type": "code",
   "execution_count": 111,
   "metadata": {},
   "outputs": [],
   "source": [
    "# Sort by creation date\n",
    "df = df.sort_values(by='creation_date').reset_index(drop=True)"
   ]
  },
  {
   "cell_type": "code",
   "execution_count": 112,
   "metadata": {},
   "outputs": [],
   "source": [
    "filename = str(datetime.now()).split(\" \")[0] + \".csv\""
   ]
  },
  {
   "cell_type": "code",
   "execution_count": 113,
   "metadata": {},
   "outputs": [],
   "source": [
    "# Find the index for the first post created on March 2020\n",
    "\n",
    "upper_bound = 0\n",
    "lower_bound = 0\n",
    "lower_flag = False\n",
    "\n",
    "for index, row in df.iterrows():\n",
    "    if str(row['creation_date']).split(' ')[0][5:7] == '06' and str(row['creation_date']).split(' ')[0][0:4] == '2019' and lower_flag == False:\n",
    "        lower_bound = index\n",
    "        lower_flag = True\n",
    "    if str(row['creation_date']).split(' ')[0][5:7] == '03' and str(row['creation_date']).split(' ')[0][0:4] == '2020':\n",
    "        upper_bound = index\n",
    "        break\n",
    "    \n",
    "# Split the dataframe\n",
    "pre_covid_df = df[lower_bound:upper_bound]\n",
    "post_covid_df = df[upper_bound:]\n",
    "\n",
    "# Save the dataframes\n",
    "pre_covid_df.to_csv(path_to_output + 'pre-covid/' + filename, index = False, encoding='utf-8')\n",
    "post_covid_df.to_csv(path_to_output + 'post-covid/' + filename, index = False, encoding='utf-8')"
   ]
  },
  {
   "cell_type": "code",
   "execution_count": 94,
   "metadata": {},
   "outputs": [],
   "source": [
    "# Find the index for the first post created on d1 and first post created on d2\n",
    "def agument_data(df, month, year):\n",
    "    start_index = 0\n",
    "    end_index = 0\n",
    "    lower_flag = False\n",
    "    \n",
    "    for index, row in df.iterrows():\n",
    "        if str(row['creation_date']).split(' ')[0][5:7] == str(month) and str(row['creation_date']).split(' ')[0][0:4] == str(year) and lower_flag == False:\n",
    "            start_index = index\n",
    "            lower_flag = True\n",
    "        if(month != 12):\n",
    "            if str(row['creation_date']).split(' ')[0][5:7] == str(month + 1) and str(row['creation_date']).split(' ')[0][0:4] == str(year):\n",
    "                end_index = index\n",
    "                break\n",
    "        else:\n",
    "            if str(row['creation_date']).split(' ')[0][5:7] == 1 and str(row['creation_date']).split(' ')[0][0:4] == str(year+1):\n",
    "                end_index = index\n",
    "                break\n",
    "    return [start_index, end_index]"
   ]
  },
  {
   "cell_type": "markdown",
   "metadata": {},
   "source": [
    "December 2019 posts"
   ]
  },
  {
   "cell_type": "code",
   "execution_count": 95,
   "metadata": {},
   "outputs": [],
   "source": [
    "indices = agument_data(df, 12, 2019)\n",
    "month_df = df[indices[0]:indices[1]]\n",
    "month_df.to_csv(path_to_output + 'december/' + filename, index = False, encoding='utf=8')"
   ]
  },
  {
   "cell_type": "markdown",
   "metadata": {},
   "source": [
    "January 2020 posts"
   ]
  },
  {
   "cell_type": "code",
   "execution_count": 96,
   "metadata": {},
   "outputs": [],
   "source": [
    "indices = agument_data(df, 1, 2020)\n",
    "month_df = df[indices[0]:indices[1]]\n",
    "month_df.to_csv(path_to_output + 'january/' + filename, index = False, encoding='utf=8')"
   ]
  },
  {
   "cell_type": "markdown",
   "metadata": {},
   "source": [
    "Feubruary 2020 posts"
   ]
  },
  {
   "cell_type": "code",
   "execution_count": 97,
   "metadata": {},
   "outputs": [],
   "source": [
    "indices = agument_data(df, 2, 2020)\n",
    "month_df = df[indices[0]:indices[1]]\n",
    "month_df.to_csv(path_to_output + 'february/' + filename, index = False, encoding='utf=8')"
   ]
  },
  {
   "cell_type": "markdown",
   "metadata": {},
   "source": [
    "March 2020 posts"
   ]
  },
  {
   "cell_type": "code",
   "execution_count": 98,
   "metadata": {},
   "outputs": [],
   "source": [
    "indices = agument_data(df, 3, 2020)\n",
    "month_df = df[indices[0]:indices[1]]\n",
    "month_df.to_csv(path_to_output + 'march/' + filename, index = False, encoding='utf=8')"
   ]
  },
  {
   "cell_type": "markdown",
   "metadata": {},
   "source": [
    "April 2020 posts"
   ]
  },
  {
   "cell_type": "code",
   "execution_count": 99,
   "metadata": {},
   "outputs": [],
   "source": [
    "indices = agument_data(df, 4, 2020)\n",
    "month_df = df[indices[0]:indices[1]]\n",
    "month_df.to_csv(path_to_output + 'april/' + filename, index = False, encoding='utf=8')"
   ]
  },
  {
   "cell_type": "markdown",
   "metadata": {},
   "source": [
    "May 2020 posts"
   ]
  },
  {
   "cell_type": "code",
   "execution_count": 100,
   "metadata": {},
   "outputs": [],
   "source": [
    "indices = agument_data(df, 5, 2020)\n",
    "month_df = df[indices[0]:indices[1]]\n",
    "month_df.to_csv(path_to_output + 'may/' + filename, index = False, encoding='utf=8')"
   ]
  },
  {
   "cell_type": "markdown",
   "metadata": {},
   "source": [
    "June 2020 posts"
   ]
  },
  {
   "cell_type": "code",
   "execution_count": 101,
   "metadata": {},
   "outputs": [],
   "source": [
    "indices = agument_data(df, 6, 2020)\n",
    "month_df = df[indices[0]:indices[1]]\n",
    "month_df.to_csv(path_to_output + 'june/' + filename, index = False, encoding='utf=8')"
   ]
  },
  {
   "cell_type": "markdown",
   "metadata": {},
   "source": [
    "July 2020 posts"
   ]
  },
  {
   "cell_type": "code",
   "execution_count": 102,
   "metadata": {},
   "outputs": [],
   "source": [
    "indices = agument_data(df, 7, 2020)\n",
    "month_df = df[indices[0]:indices[1]]\n",
    "month_df.to_csv(path_to_output + 'july/' + filename, index = False, encoding='utf=8')"
   ]
  },
  {
   "cell_type": "markdown",
   "metadata": {},
   "source": [
    "August 2020 posts"
   ]
  },
  {
   "cell_type": "code",
   "execution_count": 103,
   "metadata": {},
   "outputs": [],
   "source": [
    "indices = agument_data(df, 8, 2020)\n",
    "month_df = df[indices[0]:indices[1]]\n",
    "month_df.to_csv(path_to_output + 'august/' + filename, index = False, encoding='utf=8')"
   ]
  },
  {
   "cell_type": "markdown",
   "metadata": {},
   "source": [
    "September 2020 posts"
   ]
  },
  {
   "cell_type": "code",
   "execution_count": 104,
   "metadata": {},
   "outputs": [],
   "source": [
    "indices = agument_data(df, 9, 2020)\n",
    "month_df = df[indices[0]:indices[1]]\n",
    "month_df.to_csv(path_to_output + 'september/' + filename, index = False, encoding='utf=8')"
   ]
  },
  {
   "cell_type": "code",
   "execution_count": null,
   "metadata": {},
   "outputs": [],
   "source": []
  }
 ],
 "metadata": {
  "kernelspec": {
   "display_name": "Python 3",
   "language": "python",
   "name": "python3"
  },
  "language_info": {
   "codemirror_mode": {
    "name": "ipython",
    "version": 3
   },
   "file_extension": ".py",
   "mimetype": "text/x-python",
   "name": "python",
   "nbconvert_exporter": "python",
   "pygments_lexer": "ipython3",
   "version": "3.8.3"
  }
 },
 "nbformat": 4,
 "nbformat_minor": 4
}
