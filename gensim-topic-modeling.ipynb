{
 "cells": [
  {
   "cell_type": "code",
   "execution_count": 195,
   "metadata": {},
   "outputs": [],
   "source": [
    "# IMPORTS\n",
    "import re\n",
    "import numpy as np\n",
    "import pandas as pd\n",
    "from pprint import pprint\n",
    "import zipfile\n",
    "\n",
    "# Gensim\n",
    "import gensim\n",
    "import gensim.corpora as corpora\n",
    "from gensim.utils import simple_preprocess\n",
    "from gensim.models import CoherenceModel\n",
    "\n",
    "# spacy for lemmatization\n",
    "import spacy\n",
    "\n",
    "# Plotting tools\n",
    "import pyLDAvis\n",
    "import pyLDAvis.gensim  # don't skip this\n",
    "import matplotlib.pyplot as plt\n",
    "%matplotlib inline\n",
    "\n",
    "# Enable logging for gensim - optional\n",
    "import logging\n",
    "logging.basicConfig(format='%(asctime)s : %(levelname)s : %(message)s', level=logging.ERROR)\n",
    "\n",
    "import warnings\n",
    "warnings.filterwarnings(\"ignore\",category=DeprecationWarning)"
   ]
  },
  {
   "cell_type": "code",
   "execution_count": null,
   "metadata": {},
   "outputs": [],
   "source": [
    "import nltk\n",
    "nltk.download('stopwords')"
   ]
  },
  {
   "cell_type": "code",
   "execution_count": 198,
   "metadata": {},
   "outputs": [],
   "source": [
    "path_to_file = 'data/covid-19_discussions/processed/2020-10-11.csv'\n",
    "path_to_extraction = 'data/covid-19_discussions/'"
   ]
  },
  {
   "cell_type": "markdown",
   "metadata": {},
   "source": [
    "#### Prepare stop words"
   ]
  },
  {
   "cell_type": "code",
   "execution_count": 200,
   "metadata": {},
   "outputs": [],
   "source": [
    "# NLTK Stop words\n",
    "from nltk.corpus import stopwords\n",
    "stop_words = stopwords.words('english')\n",
    "# drop covid-19\n",
    "stop_words.extend(['covid-19'])"
   ]
  },
  {
   "cell_type": "markdown",
   "metadata": {},
   "source": [
    "#### Import data"
   ]
  },
  {
   "cell_type": "code",
   "execution_count": 201,
   "metadata": {},
   "outputs": [
    {
     "data": {
      "text/html": [
       "<div>\n",
       "<style scoped>\n",
       "    .dataframe tbody tr th:only-of-type {\n",
       "        vertical-align: middle;\n",
       "    }\n",
       "\n",
       "    .dataframe tbody tr th {\n",
       "        vertical-align: top;\n",
       "    }\n",
       "\n",
       "    .dataframe thead th {\n",
       "        text-align: right;\n",
       "    }\n",
       "</style>\n",
       "<table border=\"1\" class=\"dataframe\">\n",
       "  <thead>\n",
       "    <tr style=\"text-align: right;\">\n",
       "      <th></th>\n",
       "      <th>thread_name</th>\n",
       "      <th>categories</th>\n",
       "      <th>replies</th>\n",
       "      <th>views</th>\n",
       "      <th>total_likes</th>\n",
       "      <th>creation_date</th>\n",
       "      <th>first_reply_date</th>\n",
       "      <th>last_reply_date</th>\n",
       "      <th>thread_url</th>\n",
       "      <th>frequent_posters</th>\n",
       "      <th>...</th>\n",
       "      <th>thread_text</th>\n",
       "      <th>thread_images</th>\n",
       "      <th>thread_edits</th>\n",
       "      <th>latest_thread_edit_date</th>\n",
       "      <th>reply_author</th>\n",
       "      <th>reply_likes</th>\n",
       "      <th>reply_text</th>\n",
       "      <th>reply_images</th>\n",
       "      <th>reply_date</th>\n",
       "      <th>crawl_date</th>\n",
       "    </tr>\n",
       "  </thead>\n",
       "  <tbody>\n",
       "    <tr>\n",
       "      <th>0</th>\n",
       "      <td>About the COVID-19 Discussions category</td>\n",
       "      <td>COVID-19 Discussions</td>\n",
       "      <td>25</td>\n",
       "      <td>910</td>\n",
       "      <td>182</td>\n",
       "      <td>Mar 26, 2020 12:19 pm</td>\n",
       "      <td>Mar 26, 2020 12:40 pm</td>\n",
       "      <td>Sep 19, 2020 2:26 pm</td>\n",
       "      <td>https://forum.fiverr.com/t/about-the-covid-19-...</td>\n",
       "      <td>mic_explainer, makebossmoves, freelancerbkas, ...</td>\n",
       "      <td>...</td>\n",
       "      <td>I’ve created this category to be a lightning r...</td>\n",
       "      <td>NaN</td>\n",
       "      <td>1.0</td>\n",
       "      <td>Mar 26, 2020 12:24 pm</td>\n",
       "      <td>mic_explainer</td>\n",
       "      <td>16.0</td>\n",
       "      <td>@mjensen415 may God protect us all\\nBasically ...</td>\n",
       "      <td>NaN</td>\n",
       "      <td>Mar 26, 2020 12:40 pm</td>\n",
       "      <td>2020-10-11 19:18:21.463372</td>\n",
       "    </tr>\n",
       "    <tr>\n",
       "      <th>1</th>\n",
       "      <td>About the COVID-19 Discussions category</td>\n",
       "      <td>COVID-19 Discussions</td>\n",
       "      <td>25</td>\n",
       "      <td>910</td>\n",
       "      <td>182</td>\n",
       "      <td>Mar 26, 2020 12:19 pm</td>\n",
       "      <td>Mar 26, 2020 12:40 pm</td>\n",
       "      <td>Sep 19, 2020 2:26 pm</td>\n",
       "      <td>https://forum.fiverr.com/t/about-the-covid-19-...</td>\n",
       "      <td>mic_explainer, makebossmoves, freelancerbkas, ...</td>\n",
       "      <td>...</td>\n",
       "      <td>I’ve created this category to be a lightning r...</td>\n",
       "      <td>NaN</td>\n",
       "      <td>1.0</td>\n",
       "      <td>Mar 26, 2020 12:24 pm</td>\n",
       "      <td>freelancerbkas</td>\n",
       "      <td>18.0</td>\n",
       "      <td>Our country is a densely populated country. Th...</td>\n",
       "      <td>NaN</td>\n",
       "      <td>Mar 27, 2020 3:15 am</td>\n",
       "      <td>2020-10-11 19:18:21.871712</td>\n",
       "    </tr>\n",
       "    <tr>\n",
       "      <th>2</th>\n",
       "      <td>About the COVID-19 Discussions category</td>\n",
       "      <td>COVID-19 Discussions</td>\n",
       "      <td>25</td>\n",
       "      <td>910</td>\n",
       "      <td>182</td>\n",
       "      <td>Mar 26, 2020 12:19 pm</td>\n",
       "      <td>Mar 26, 2020 12:40 pm</td>\n",
       "      <td>Sep 19, 2020 2:26 pm</td>\n",
       "      <td>https://forum.fiverr.com/t/about-the-covid-19-...</td>\n",
       "      <td>mic_explainer, makebossmoves, freelancerbkas, ...</td>\n",
       "      <td>...</td>\n",
       "      <td>I’ve created this category to be a lightning r...</td>\n",
       "      <td>NaN</td>\n",
       "      <td>1.0</td>\n",
       "      <td>Mar 26, 2020 12:24 pm</td>\n",
       "      <td>mic_explainer</td>\n",
       "      <td>8.0</td>\n",
       "      <td>@freelancerbkas You’re from which country?</td>\n",
       "      <td>NaN</td>\n",
       "      <td>Mar 28, 2020 8:23 am</td>\n",
       "      <td>2020-10-11 19:18:22.260357</td>\n",
       "    </tr>\n",
       "    <tr>\n",
       "      <th>3</th>\n",
       "      <td>About the COVID-19 Discussions category</td>\n",
       "      <td>COVID-19 Discussions</td>\n",
       "      <td>25</td>\n",
       "      <td>910</td>\n",
       "      <td>182</td>\n",
       "      <td>Mar 26, 2020 12:19 pm</td>\n",
       "      <td>Mar 26, 2020 12:40 pm</td>\n",
       "      <td>Sep 19, 2020 2:26 pm</td>\n",
       "      <td>https://forum.fiverr.com/t/about-the-covid-19-...</td>\n",
       "      <td>mic_explainer, makebossmoves, freelancerbkas, ...</td>\n",
       "      <td>...</td>\n",
       "      <td>I’ve created this category to be a lightning r...</td>\n",
       "      <td>NaN</td>\n",
       "      <td>1.0</td>\n",
       "      <td>Mar 26, 2020 12:24 pm</td>\n",
       "      <td>freelancerbkas</td>\n",
       "      <td>14.0</td>\n",
       "      <td>I am from Bangladesh.</td>\n",
       "      <td>NaN</td>\n",
       "      <td>Mar 28, 2020 11:39 am</td>\n",
       "      <td>2020-10-11 19:18:22.671560</td>\n",
       "    </tr>\n",
       "    <tr>\n",
       "      <th>4</th>\n",
       "      <td>About the COVID-19 Discussions category</td>\n",
       "      <td>COVID-19 Discussions</td>\n",
       "      <td>25</td>\n",
       "      <td>910</td>\n",
       "      <td>182</td>\n",
       "      <td>Mar 26, 2020 12:19 pm</td>\n",
       "      <td>Mar 26, 2020 12:40 pm</td>\n",
       "      <td>Sep 19, 2020 2:26 pm</td>\n",
       "      <td>https://forum.fiverr.com/t/about-the-covid-19-...</td>\n",
       "      <td>mic_explainer, makebossmoves, freelancerbkas, ...</td>\n",
       "      <td>...</td>\n",
       "      <td>I’ve created this category to be a lightning r...</td>\n",
       "      <td>NaN</td>\n",
       "      <td>1.0</td>\n",
       "      <td>Mar 26, 2020 12:24 pm</td>\n",
       "      <td>mic_explainer</td>\n",
       "      <td>8.0</td>\n",
       "      <td>OK bro, may God watch over us all! mashallar.</td>\n",
       "      <td>NaN</td>\n",
       "      <td>Mar 28, 2020 4:32 pm</td>\n",
       "      <td>2020-10-11 19:18:23.065066</td>\n",
       "    </tr>\n",
       "  </tbody>\n",
       "</table>\n",
       "<p>5 rows × 22 columns</p>\n",
       "</div>"
      ],
      "text/plain": [
       "                               thread_name            categories  replies  \\\n",
       "0  About the COVID-19 Discussions category  COVID-19 Discussions       25   \n",
       "1  About the COVID-19 Discussions category  COVID-19 Discussions       25   \n",
       "2  About the COVID-19 Discussions category  COVID-19 Discussions       25   \n",
       "3  About the COVID-19 Discussions category  COVID-19 Discussions       25   \n",
       "4  About the COVID-19 Discussions category  COVID-19 Discussions       25   \n",
       "\n",
       "  views total_likes          creation_date       first_reply_date  \\\n",
       "0   910         182  Mar 26, 2020 12:19 pm  Mar 26, 2020 12:40 pm   \n",
       "1   910         182  Mar 26, 2020 12:19 pm  Mar 26, 2020 12:40 pm   \n",
       "2   910         182  Mar 26, 2020 12:19 pm  Mar 26, 2020 12:40 pm   \n",
       "3   910         182  Mar 26, 2020 12:19 pm  Mar 26, 2020 12:40 pm   \n",
       "4   910         182  Mar 26, 2020 12:19 pm  Mar 26, 2020 12:40 pm   \n",
       "\n",
       "        last_reply_date                                         thread_url  \\\n",
       "0  Sep 19, 2020 2:26 pm  https://forum.fiverr.com/t/about-the-covid-19-...   \n",
       "1  Sep 19, 2020 2:26 pm  https://forum.fiverr.com/t/about-the-covid-19-...   \n",
       "2  Sep 19, 2020 2:26 pm  https://forum.fiverr.com/t/about-the-covid-19-...   \n",
       "3  Sep 19, 2020 2:26 pm  https://forum.fiverr.com/t/about-the-covid-19-...   \n",
       "4  Sep 19, 2020 2:26 pm  https://forum.fiverr.com/t/about-the-covid-19-...   \n",
       "\n",
       "                                    frequent_posters  ...  \\\n",
       "0  mic_explainer, makebossmoves, freelancerbkas, ...  ...   \n",
       "1  mic_explainer, makebossmoves, freelancerbkas, ...  ...   \n",
       "2  mic_explainer, makebossmoves, freelancerbkas, ...  ...   \n",
       "3  mic_explainer, makebossmoves, freelancerbkas, ...  ...   \n",
       "4  mic_explainer, makebossmoves, freelancerbkas, ...  ...   \n",
       "\n",
       "                                         thread_text  thread_images  \\\n",
       "0  I’ve created this category to be a lightning r...            NaN   \n",
       "1  I’ve created this category to be a lightning r...            NaN   \n",
       "2  I’ve created this category to be a lightning r...            NaN   \n",
       "3  I’ve created this category to be a lightning r...            NaN   \n",
       "4  I’ve created this category to be a lightning r...            NaN   \n",
       "\n",
       "  thread_edits latest_thread_edit_date    reply_author reply_likes  \\\n",
       "0          1.0   Mar 26, 2020 12:24 pm   mic_explainer        16.0   \n",
       "1          1.0   Mar 26, 2020 12:24 pm  freelancerbkas        18.0   \n",
       "2          1.0   Mar 26, 2020 12:24 pm   mic_explainer         8.0   \n",
       "3          1.0   Mar 26, 2020 12:24 pm  freelancerbkas        14.0   \n",
       "4          1.0   Mar 26, 2020 12:24 pm   mic_explainer         8.0   \n",
       "\n",
       "                                          reply_text  reply_images  \\\n",
       "0  @mjensen415 may God protect us all\\nBasically ...           NaN   \n",
       "1  Our country is a densely populated country. Th...           NaN   \n",
       "2         @freelancerbkas You’re from which country?           NaN   \n",
       "3                              I am from Bangladesh.           NaN   \n",
       "4      OK bro, may God watch over us all! mashallar.           NaN   \n",
       "\n",
       "              reply_date                  crawl_date  \n",
       "0  Mar 26, 2020 12:40 pm  2020-10-11 19:18:21.463372  \n",
       "1   Mar 27, 2020 3:15 am  2020-10-11 19:18:21.871712  \n",
       "2   Mar 28, 2020 8:23 am  2020-10-11 19:18:22.260357  \n",
       "3  Mar 28, 2020 11:39 am  2020-10-11 19:18:22.671560  \n",
       "4   Mar 28, 2020 4:32 pm  2020-10-11 19:18:23.065066  \n",
       "\n",
       "[5 rows x 22 columns]"
      ]
     },
     "execution_count": 201,
     "metadata": {},
     "output_type": "execute_result"
    }
   ],
   "source": [
    "df = pd.read_csv(path_to_file)\n",
    "df.head()"
   ]
  },
  {
   "cell_type": "code",
   "execution_count": 202,
   "metadata": {},
   "outputs": [
    {
     "name": "stdout",
     "output_type": "stream",
     "text": [
      "3039\n"
     ]
    }
   ],
   "source": [
    "print(len(df))"
   ]
  },
  {
   "cell_type": "markdown",
   "metadata": {},
   "source": [
    "#### Remove newline characters and awkward spaces"
   ]
  },
  {
   "cell_type": "code",
   "execution_count": 203,
   "metadata": {},
   "outputs": [
    {
     "name": "stdout",
     "output_type": "stream",
     "text": [
      "['About the COVID-19 Discussions category']\n"
     ]
    }
   ],
   "source": [
    "# Convert to list\n",
    "data = df.thread_name.values.tolist()\n",
    "\n",
    "# Remove new line characters\n",
    "data = [re.sub('\\s+', ' ', sent) for sent in data]\n",
    "\n",
    "# Remove distracting single quotes\n",
    "data = [re.sub(\"\\'\", \"\", sent) for sent in data]\n",
    "\n",
    "pprint(data[:1])"
   ]
  },
  {
   "cell_type": "markdown",
   "metadata": {},
   "source": [
    "#### Tokenize words and Clean-up text"
   ]
  },
  {
   "cell_type": "markdown",
   "metadata": {},
   "source": [
    "Remove punctuations and unnecessary characters using simple_preprocess()"
   ]
  },
  {
   "cell_type": "code",
   "execution_count": 204,
   "metadata": {},
   "outputs": [
    {
     "name": "stdout",
     "output_type": "stream",
     "text": [
      "[['about', 'the', 'covid', 'discussions', 'category']]\n"
     ]
    }
   ],
   "source": [
    "def sent_to_words(sentences):\n",
    "    for sentence in sentences:\n",
    "        yield(gensim.utils.simple_preprocess(str(sentence), deacc=True))  # deacc=True removes punctuations\n",
    "\n",
    "data_words = list(sent_to_words(data))\n",
    "\n",
    "print(data_words[:1])"
   ]
  },
  {
   "cell_type": "markdown",
   "metadata": {},
   "source": [
    "#### Creating Bigram and Trigram Models"
   ]
  },
  {
   "cell_type": "code",
   "execution_count": 205,
   "metadata": {},
   "outputs": [
    {
     "name": "stdout",
     "output_type": "stream",
     "text": [
      "['about', 'the', 'covid', 'discussions', 'category']\n"
     ]
    }
   ],
   "source": [
    "# Build the bigram and trigram models\n",
    "bigram = gensim.models.Phrases(data_words, min_count=5, threshold=100) # higher threshold fewer phrases.\n",
    "trigram = gensim.models.Phrases(bigram[data_words], threshold=100)  \n",
    "\n",
    "# Faster way to get a sentence clubbed as a trigram/bigram\n",
    "bigram_mod = gensim.models.phrases.Phraser(bigram)\n",
    "trigram_mod = gensim.models.phrases.Phraser(trigram)\n",
    "\n",
    "# See trigram example\n",
    "print(trigram_mod[bigram_mod[data_words[0]]])"
   ]
  },
  {
   "cell_type": "markdown",
   "metadata": {},
   "source": [
    "##### Remove Stopwords, Make Bigrams and Lemmatize"
   ]
  },
  {
   "cell_type": "code",
   "execution_count": 206,
   "metadata": {},
   "outputs": [],
   "source": [
    "# Define functions for stopwords, bigrams, trigrams and lemmatization\n",
    "def remove_stopwords(texts):\n",
    "    return [[word for word in simple_preprocess(str(doc)) if word not in stop_words] for doc in texts]\n",
    "\n",
    "def make_bigrams(texts):\n",
    "    return [bigram_mod[doc] for doc in texts]\n",
    "\n",
    "def make_trigrams(texts):\n",
    "    return [trigram_mod[bigram_mod[doc]] for doc in texts]\n",
    "\n",
    "def lemmatization(texts, allowed_postags=['NOUN', 'ADJ', 'VERB', 'ADV']):\n",
    "    \"\"\"https://spacy.io/api/annotation\"\"\"\n",
    "    texts_out = []\n",
    "    for sent in texts:\n",
    "        doc = nlp(\" \".join(sent)) \n",
    "        texts_out.append([token.lemma_ for token in doc if token.pos_ in allowed_postags])\n",
    "    return texts_out"
   ]
  },
  {
   "cell_type": "code",
   "execution_count": 207,
   "metadata": {},
   "outputs": [
    {
     "name": "stdout",
     "output_type": "stream",
     "text": [
      "[['covid', 'discussion', 'category']]\n"
     ]
    }
   ],
   "source": [
    "# Remove Stop Words\n",
    "data_words_nostops = remove_stopwords(data_words)\n",
    "\n",
    "# Form Bigrams\n",
    "data_words_bigrams = make_bigrams(data_words_nostops)\n",
    "\n",
    "# Initialize spacy 'en' model, keeping only tagger component (for efficiency)\n",
    "# python3 -m spacy download en\n",
    "nlp = spacy.load('en', disable=['parser', 'ner'])\n",
    "\n",
    "# Do lemmatization keeping only noun, adj, vb, adv\n",
    "data_lemmatized = lemmatization(data_words_bigrams, allowed_postags=['NOUN', 'ADJ', 'VERB', 'ADV'])\n",
    "\n",
    "print(data_lemmatized[:1])"
   ]
  },
  {
   "cell_type": "markdown",
   "metadata": {},
   "source": [
    "#### Create the Dictionary and Corpus needed for Topic Modeling"
   ]
  },
  {
   "cell_type": "code",
   "execution_count": 208,
   "metadata": {},
   "outputs": [
    {
     "name": "stdout",
     "output_type": "stream",
     "text": [
      "[[(0, 1), (1, 1), (2, 1)]]\n"
     ]
    }
   ],
   "source": [
    "# Create Dictionary\n",
    "id2word = corpora.Dictionary(data_lemmatized)\n",
    "\n",
    "# Create Corpus\n",
    "texts = data_lemmatized\n",
    "\n",
    "# Term Document Frequency\n",
    "corpus = [id2word.doc2bow(text) for text in texts]\n",
    "\n",
    "# View\n",
    "print(corpus[:1])"
   ]
  },
  {
   "cell_type": "code",
   "execution_count": 209,
   "metadata": {},
   "outputs": [
    {
     "data": {
      "text/plain": [
       "[[('category', 1), ('covid', 1), ('discussion', 1)]]"
      ]
     },
     "execution_count": 209,
     "metadata": {},
     "output_type": "execute_result"
    }
   ],
   "source": [
    "# Term-frequencies\n",
    "[[(id2word[id], freq) for id, freq in cp] for cp in corpus[:1]]"
   ]
  },
  {
   "cell_type": "markdown",
   "metadata": {},
   "source": [
    "#### Building the Topic Model"
   ]
  },
  {
   "cell_type": "code",
   "execution_count": 223,
   "metadata": {},
   "outputs": [],
   "source": [
    "# Build LDA model\n",
    "lda_model = gensim.models.ldamodel.LdaModel(corpus=corpus,\n",
    "                                           id2word=id2word,\n",
    "                                           num_topics=7, \n",
    "                                           random_state=100,\n",
    "                                           update_every=1,\n",
    "                                           chunksize=100,\n",
    "                                           passes=200,\n",
    "                                           alpha='auto',\n",
    "                                           per_word_topics=True)"
   ]
  },
  {
   "cell_type": "markdown",
   "metadata": {},
   "source": [
    "#### View the topics in LDA model"
   ]
  },
  {
   "cell_type": "code",
   "execution_count": 224,
   "metadata": {},
   "outputs": [
    {
     "name": "stdout",
     "output_type": "stream",
     "text": [
      "[(0,\n",
      "  '0.263*\"due\" + 0.066*\"discover\" + 0.066*\"gouge\" + 0.066*\"price\" + '\n",
      "  '0.050*\"effect\" + 0.041*\"new\" + 0.039*\"go\" + 0.034*\"stay\" + 0.033*\"pandemic\" '\n",
      "  '+ 0.024*\"reduce\"'),\n",
      " (1,\n",
      "  '0.221*\"sale\" + 0.151*\"maybe\" + 0.151*\"reason\" + 0.086*\"help\" + '\n",
      "  '0.067*\"fighting\" + 0.067*\"organization\" + 0.025*\"stop\" + '\n",
      "  '0.024*\"construction\" + 0.019*\"let\" + 0.013*\"particluar\"'),\n",
      " (2,\n",
      "  '0.257*\"impact\" + 0.197*\"freelance\" + 0.095*\"work\" + 0.073*\"else\" + '\n",
      "  '0.073*\"distribution\" + 0.072*\"self\" + 0.072*\"isolation\" + 0.068*\"time\" + '\n",
      "  '0.021*\"get\" + 0.009*\"make\"'),\n",
      " (3,\n",
      "  '0.271*\"freelancer\" + 0.167*\"fund\" + 0.100*\"support\" + 0.082*\"spread\" + '\n",
      "  '0.042*\"period\" + 0.032*\"quarantine\" + 0.021*\"week\" + 0.021*\"gonne\" + '\n",
      "  '0.021*\"rough\" + 0.021*\"learn\"'),\n",
      " (4,\n",
      "  '0.150*\"day\" + 0.097*\"buy\" + 0.068*\"join\" + 0.067*\"service\" + 0.063*\"buyer\" '\n",
      "  '+ 0.063*\"people\" + 0.063*\"see\" + 0.063*\"mostly\" + 0.035*\"mask\" + '\n",
      "  '0.035*\"sanitizer\"'),\n",
      " (5,\n",
      "  '0.574*\"covid\" + 0.055*\"experience\" + 0.034*\"kill\" + 0.032*\"earning\" + '\n",
      "  '0.032*\"early\" + 0.030*\"poll\" + 0.026*\"market\" + 0.021*\"question\" + '\n",
      "  '0.018*\"freelancing\" + 0.017*\"world\"'),\n",
      " (6,\n",
      "  '0.177*\"virus\" + 0.172*\"corona\" + 0.145*\"order\" + 0.122*\"affect\" + '\n",
      "  '0.092*\"fiverr\" + 0.056*\"game\" + 0.041*\"playing\" + 0.018*\"course\" + '\n",
      "  '0.018*\"outbreak\" + 0.018*\"would\"')]\n"
     ]
    }
   ],
   "source": [
    "# Print the Keyword in the topics\n",
    "pprint(lda_model.print_topics())\n",
    "doc_lda = lda_model[corpus]"
   ]
  },
  {
   "cell_type": "markdown",
   "metadata": {},
   "source": [
    "#### Compute Model Perplexity and Coherence Score"
   ]
  },
  {
   "cell_type": "code",
   "execution_count": 225,
   "metadata": {},
   "outputs": [
    {
     "name": "stdout",
     "output_type": "stream",
     "text": [
      "\n",
      "Perplexity:  -3.9355629072729523\n",
      "\n",
      "Coherence Score:  0.5558063791597981\n"
     ]
    }
   ],
   "source": [
    "# Compute Perplexity\n",
    "print('\\nPerplexity: ', lda_model.log_perplexity(corpus))  \n",
    "\n",
    "# Compute Coherence Score\n",
    "coherence_model_lda = CoherenceModel(model=lda_model, texts=data_lemmatized, dictionary=id2word, coherence='c_v')\n",
    "coherence_lda = coherence_model_lda.get_coherence()\n",
    "print('\\nCoherence Score: ', coherence_lda)"
   ]
  },
  {
   "cell_type": "markdown",
   "metadata": {},
   "source": [
    "#### Visualize the topics-keywords"
   ]
  },
  {
   "cell_type": "code",
   "execution_count": 226,
   "metadata": {},
   "outputs": [
    {
     "data": {
      "text/html": [
       "\n",
       "<link rel=\"stylesheet\" type=\"text/css\" href=\"https://cdn.rawgit.com/bmabey/pyLDAvis/files/ldavis.v1.0.0.css\">\n",
       "\n",
       "\n",
       "<div id=\"ldavis_el98761407029117661928858639555\"></div>\n",
       "<script type=\"text/javascript\">\n",
       "\n",
       "var ldavis_el98761407029117661928858639555_data = {\"mdsDat\": {\"x\": [-0.05219629283789738, -0.09445760380122663, -0.4244932394013978, -0.32752592354713084, 0.3048441974540111, 0.4187691314978295, 0.17505973063581212], \"y\": [0.0787552222961778, -0.4209383395986795, -0.15037976371151565, 0.33420757146284724, -0.3156410071155574, 0.06758739739771731, 0.40640891926901035], \"topics\": [1, 2, 3, 4, 5, 6, 7], \"cluster\": [1, 1, 1, 1, 1, 1, 1], \"Freq\": [18.908138275146484, 18.04224967956543, 16.78474235534668, 13.73901653289795, 13.224187850952148, 12.70102310180664, 6.600645065307617]}, \"tinfo\": {\"Term\": [\"covid\", \"impact\", \"freelancer\", \"due\", \"sale\", \"freelance\", \"virus\", \"maybe\", \"reason\", \"corona\", \"fund\", \"order\", \"affect\", \"work\", \"day\", \"help\", \"support\", \"fiverr\", \"else\", \"distribution\", \"spread\", \"self\", \"isolation\", \"organization\", \"fighting\", \"time\", \"buy\", \"price\", \"gouge\", \"discover\", \"sale\", \"reason\", \"maybe\", \"help\", \"organization\", \"fighting\", \"stop\", \"construction\", \"let\", \"particluar\", \"heart\", \"first\", \"gig\", \"theory\", \"conspiracy\", \"bug\", \"die\", \"correct\", \"handwashing\", \"technique\", \"worry\", \"want\", \"publish\", \"lose\", \"blessing\", \"respect\", \"remember\", \"email\", \"address\", \"space\", \"half\", \"slogan\", \"beat\", \"drop\", \"covid\", \"experience\", \"kill\", \"early\", \"earning\", \"poll\", \"market\", \"question\", \"freelancing\", \"world\", \"crisis\", \"positive\", \"still\", \"country\", \"career\", \"post\", \"bangladesh\", \"report\", \"health\", \"productive\", \"discussion\", \"category\", \"boring\", \"consider\", \"important\", \"alright\", \"drop\", \"advise\", \"today\", \"reminder\", \"impact\", \"freelance\", \"work\", \"else\", \"distribution\", \"isolation\", \"self\", \"time\", \"get\", \"make\", \"mental\", \"breakdown\", \"tired\", \"difficult\", \"disappear\", \"cancellation\", \"lockdown\", \"weird\", \"offer\", \"advantage\", \"illustration\", \"tough\", \"relief\", \"light\", \"space\", \"slogan\", \"half\", \"face\", \"rotary\", \"way\", \"bussiness\", \"fiver\", \"career\", \"tip\", \"think\", \"take\", \"virus\", \"corona\", \"order\", \"affect\", \"fiverr\", \"game\", \"playing\", \"outbreak\", \"course\", \"would\", \"also\", \"good\", \"think\", \"decrease\", \"plan\", \"know\", \"love\", \"stat\", \"guy\", \"play\", \"increase\", \"response\", \"current\", \"scope\", \"bless\", \"selling\", \"beat\", \"agree\", \"half\", \"slogan\", \"space\", \"face\", \"kidney\", \"patient\", \"free\", \"go\", \"due\", \"gouge\", \"discover\", \"price\", \"effect\", \"new\", \"go\", \"stay\", \"pandemic\", \"reduce\", \"safe\", \"attack\", \"free\", \"fee\", \"number\", \"customer\", \"hand\", \"wash\", \"forget\", \"job\", \"rate\", \"lower\", \"fiver\", \"home\", \"industry\", \"spanish\", \"start\", \"situation\", \"unemployment\", \"percentage\", \"removal\", \"freelancer\", \"fund\", \"support\", \"spread\", \"period\", \"quarantine\", \"week\", \"gonne\", \"rough\", \"learn\", \"problem\", \"regard\", \"review\", \"vaccine\", \"utilize\", \"develop\", \"care\", \"act\", \"benefit\", \"apply\", \"qurantime\", \"lack\", \"take\", \"long\", \"related\", \"newcomer\", \"able\", \"remady\", \"annihilation\", \"probable\", \"day\", \"buy\", \"join\", \"service\", \"people\", \"see\", \"mostly\", \"buyer\", \"sanitizer\", \"mask\", \"either\", \"video\", \"topic\", \"friend\", \"code\", \"feel\", \"payment\", \"less\", \"moodswing\", \"alone\", \"likely\", \"idea\", \"curious\", \"do\", \"clearance\", \"exhausted\", \"surprising\", \"space\", \"slogan\", \"face\", \"half\", \"new\", \"lone\", \"fiverr\"], \"Freq\": [855.0, 356.0, 284.0, 287.0, 345.0, 273.0, 201.0, 236.0, 236.0, 195.0, 175.0, 165.0, 139.0, 132.0, 82.0, 134.0, 105.0, 105.0, 102.0, 101.0, 86.0, 99.0, 99.0, 105.0, 105.0, 95.0, 53.0, 72.0, 72.0, 72.0, 345.0537414550781, 236.06094360351562, 236.06094360351562, 133.62191772460938, 104.73880767822266, 104.73880767822266, 38.63506317138672, 36.85798645019531, 30.032331466674805, 20.196380615234375, 20.196380615234375, 17.933130264282227, 16.713376998901367, 16.096275329589844, 16.096275329589844, 16.096275329589844, 16.09565544128418, 15.426752090454102, 15.426752090454102, 15.426752090454102, 14.3821439743042, 14.3821439743042, 14.3821439743042, 8.389819145202637, 4.246477127075195, 3.7284743785858154, 3.7284743785858154, 3.7283647060394287, 3.7283647060394287, 0.17943927645683289, 0.17943927645683289, 0.17943927645683289, 0.18220095336437225, 0.1831481158733368, 854.9781494140625, 81.12138366699219, 50.29955291748047, 47.980873107910156, 47.980873107910156, 45.32572555541992, 38.69157028198242, 30.98192596435547, 26.650707244873047, 24.95589256286621, 24.935625076293945, 24.935625076293945, 16.9088077545166, 16.599437713623047, 16.402767181396484, 12.913625717163086, 9.974783897399902, 9.974783897399902, 8.871769905090332, 8.596959114074707, 8.499408721923828, 8.499408721923828, 7.493470191955566, 6.763249397277832, 6.763249397277832, 4.3605475425720215, 4.356861114501953, 2.5649139881134033, 1.870521903038025, 1.870521903038025, 355.4151916503906, 273.19219970703125, 131.8002166748047, 101.28870391845703, 101.12979888916016, 99.21562957763672, 99.21562957763672, 94.74171447753906, 29.737932205200195, 13.021781921386719, 8.368597030639648, 8.368597030639648, 5.8645219802856445, 4.766782760620117, 4.591024875640869, 4.591024875640869, 3.931399345397949, 3.6730213165283203, 3.6730213165283203, 2.1508686542510986, 1.9013209342956543, 1.589739441871643, 1.589739441871643, 1.589739441871643, 0.13617993891239166, 0.13617993891239166, 0.13617993891239166, 0.13617993891239166, 0.136601522564888, 0.13618016242980957, 0.13812050223350525, 0.13753332197666168, 0.13721135258674622, 0.13720566034317017, 0.13713882863521576, 0.13702599704265594, 200.83084106445312, 194.48780822753906, 164.8484344482422, 138.27764892578125, 104.82449340820312, 63.42786407470703, 46.51523971557617, 20.709461212158203, 20.709461212158203, 20.15242576599121, 17.904499053955078, 15.065169334411621, 14.818083763122559, 13.874897003173828, 11.128130912780762, 9.122946739196777, 9.122946739196777, 9.122946739196777, 7.967129707336426, 5.243441581726074, 5.030916213989258, 4.108575344085693, 3.9757378101348877, 3.9757378101348877, 2.8977811336517334, 1.8139468431472778, 1.3028398752212524, 1.151006817817688, 0.0994735062122345, 0.0994735062122345, 0.0994735062122345, 0.0994735062122345, 0.10124573111534119, 0.10124573111534119, 0.10636124014854431, 0.10152696073055267, 287.01287841796875, 72.02391052246094, 72.02391052246094, 72.02391052246094, 54.92193603515625, 44.733062744140625, 42.82063674926758, 37.30604934692383, 36.191307067871094, 26.473411560058594, 22.34523582458496, 22.18136215209961, 20.119077682495117, 19.421123504638672, 16.74641227722168, 15.11152172088623, 14.044393539428711, 13.630807876586914, 13.630807876586914, 12.587674140930176, 11.297135353088379, 11.297135353088379, 10.199044227600098, 9.580899238586426, 8.712076187133789, 8.089503288269043, 8.089503288269043, 7.6719207763671875, 7.488270282745361, 7.144798278808594, 7.144798278808594, 283.9668273925781, 174.71902465820312, 104.51563262939453, 85.82957458496094, 43.79584884643555, 34.00419616699219, 22.162742614746094, 22.162742614746094, 22.162742614746094, 22.116682052612305, 20.4548397064209, 15.864765167236328, 15.864765167236328, 14.991819381713867, 13.55675220489502, 10.196599006652832, 9.077661514282227, 9.077661514282227, 9.077661514282227, 9.077661514282227, 6.98712158203125, 6.98712158203125, 6.718571186065674, 4.914226531982422, 4.597885608673096, 4.545073509216309, 4.545073509216309, 4.30405855178833, 4.30405855178833, 4.30405855178833, 81.7542953491211, 52.7584342956543, 37.212825775146484, 36.6326789855957, 34.07593536376953, 34.07593536376953, 34.07593536376953, 34.07593536376953, 18.80337905883789, 18.80337905883789, 18.80337905883789, 14.45012378692627, 14.45012378692627, 14.45012378692627, 14.45012378692627, 12.154132843017578, 9.733952522277832, 9.733952522277832, 3.517712116241455, 3.2657995223999023, 2.6769580841064453, 2.6769580841064453, 2.2352724075317383, 1.8192731142044067, 9.733952522277832, 1.3152388334274292, 1.1639224290847778, 0.12111558765172958, 0.12111558765172958, 0.12111558765172958, 0.12111558765172958, 0.13126815855503082, 0.12369132041931152, 0.12837298214435577], \"Total\": [855.0, 356.0, 284.0, 287.0, 345.0, 273.0, 201.0, 236.0, 236.0, 195.0, 175.0, 165.0, 139.0, 132.0, 82.0, 134.0, 105.0, 105.0, 102.0, 101.0, 86.0, 99.0, 99.0, 105.0, 105.0, 95.0, 53.0, 72.0, 72.0, 72.0, 345.7884216308594, 236.79534912109375, 236.79534912109375, 134.35850524902344, 105.47473907470703, 105.47473907470703, 39.37017822265625, 37.59346389770508, 30.767717361450195, 20.931129455566406, 20.931129455566406, 18.66742515563965, 17.448135375976562, 16.8305721282959, 16.8305721282959, 16.8305721282959, 16.829959869384766, 16.161048889160156, 16.161048889160156, 16.161048889160156, 15.116439819335938, 15.116439819335938, 15.116439819335938, 9.126269340515137, 4.980778694152832, 4.462771415710449, 4.462771415710449, 4.462662696838379, 4.462662696838379, 1.3267263174057007, 1.3267263174057007, 1.3267263174057007, 2.1198675632476807, 5.112613201141357, 855.7318725585938, 81.87349700927734, 51.051971435546875, 48.734275817871094, 48.734275817871094, 46.07780838012695, 39.4451904296875, 31.733966827392578, 27.403709411621094, 25.7084903717041, 25.68805503845215, 25.68805503845215, 17.66254234313965, 17.351478576660156, 17.15647315979004, 13.6661376953125, 10.726825714111328, 10.726825714111328, 9.624377250671387, 9.350939750671387, 9.251448631286621, 9.251448631286621, 8.245514869689941, 7.518261432647705, 7.518261432647705, 5.112595558166504, 5.112613201141357, 3.3169593811035156, 2.6225645542144775, 2.6225645542144775, 356.1931457519531, 273.9699401855469, 132.5786590576172, 102.06637573242188, 101.90735626220703, 99.9931869506836, 99.9931869506836, 95.5226821899414, 30.519943237304688, 13.801300048828125, 9.146150588989258, 9.146150588989258, 6.642325401306152, 5.544342994689941, 5.369049549102783, 5.369049549102783, 4.709993362426758, 4.4505815505981445, 4.4505815505981445, 2.9337944984436035, 2.6788852214813232, 2.3672935962677, 2.3672935962677, 2.3672935962677, 1.3267263174057007, 1.3267263174057007, 1.3267263174057007, 1.3267263174057007, 1.5356574058532715, 1.5356537103652954, 2.127563238143921, 11.019596099853516, 17.15647315979004, 7.494385242462158, 15.635847091674805, 7.5120086669921875, 201.6460723876953, 195.302490234375, 165.66346740722656, 139.0959014892578, 105.64646911621094, 64.2430191040039, 47.32950210571289, 21.524221420288086, 21.524221420288086, 20.966684341430664, 18.719572067260742, 15.87942886352539, 15.635847091674805, 14.689278602600098, 11.942390441894531, 9.937209129333496, 9.937209129333496, 9.937209129333496, 8.781606674194336, 6.057737827301025, 5.845398902893066, 4.923768520355225, 4.790963649749756, 4.790963649749756, 3.712860584259033, 2.6302056312561035, 2.1198675632476807, 1.965274453163147, 1.3267263174057007, 1.3267263174057007, 1.3267263174057007, 1.3267263174057007, 1.9569474458694458, 1.9569474458694458, 20.945016860961914, 43.641746520996094, 287.83404541015625, 72.84296417236328, 72.84296417236328, 72.84296417236328, 55.742916107177734, 45.562625885009766, 43.641746520996094, 38.12664031982422, 37.013092041015625, 27.293106079101562, 23.16429328918457, 23.000410079956055, 20.945016860961914, 20.241043090820312, 17.565628051757812, 15.930665016174316, 14.863439559936523, 14.449854850769043, 14.449854850769043, 13.406805992126465, 12.116181373596191, 12.116181373596191, 11.019596099853516, 10.400750160217285, 9.531270027160645, 8.908775329589844, 8.908775329589844, 8.492410659790039, 8.330489158630371, 7.964528560638428, 7.964528560638428, 284.7596435546875, 175.51162719726562, 105.30831909179688, 86.62226867675781, 44.588470458984375, 34.7968864440918, 22.955333709716797, 22.955333709716797, 22.955333709716797, 22.9093074798584, 21.24763298034668, 16.657358169555664, 16.657358169555664, 15.78482723236084, 14.349343299865723, 10.989801406860352, 9.87048053741455, 9.87048053741455, 9.87048053741455, 9.87048053741455, 7.781051158905029, 7.781051158905029, 7.5120086669921875, 5.707390785217285, 5.391656875610352, 5.337819576263428, 5.337819576263428, 5.096650123596191, 5.096650123596191, 5.096650123596191, 82.54821014404297, 53.55107498168945, 38.00556182861328, 37.42537307739258, 34.868629455566406, 34.868629455566406, 34.868629455566406, 34.868629455566406, 19.595996856689453, 19.595996856689453, 19.595996856689453, 15.242802619934082, 15.242802619934082, 15.242802619934082, 15.242802619934082, 12.947611808776855, 10.526972770690918, 10.526972770690918, 4.310332298278809, 4.060641765594482, 3.4699864387512207, 3.4699864387512207, 3.0287375450134277, 2.611893653869629, 14.64741039276123, 2.1097519397735596, 1.9583768844604492, 1.3267263174057007, 1.3267263174057007, 1.3267263174057007, 1.3267263174057007, 45.562625885009766, 3.0600523948669434, 105.64646911621094], \"Category\": [\"Default\", \"Default\", \"Default\", \"Default\", \"Default\", \"Default\", \"Default\", \"Default\", \"Default\", \"Default\", \"Default\", \"Default\", \"Default\", \"Default\", \"Default\", \"Default\", \"Default\", \"Default\", \"Default\", \"Default\", \"Default\", \"Default\", \"Default\", \"Default\", \"Default\", \"Default\", \"Default\", \"Default\", \"Default\", \"Default\", \"Topic1\", \"Topic1\", \"Topic1\", \"Topic1\", \"Topic1\", \"Topic1\", \"Topic1\", \"Topic1\", \"Topic1\", \"Topic1\", \"Topic1\", \"Topic1\", \"Topic1\", \"Topic1\", \"Topic1\", \"Topic1\", \"Topic1\", \"Topic1\", \"Topic1\", \"Topic1\", \"Topic1\", \"Topic1\", \"Topic1\", \"Topic1\", \"Topic1\", \"Topic1\", \"Topic1\", \"Topic1\", \"Topic1\", \"Topic1\", \"Topic1\", \"Topic1\", \"Topic1\", \"Topic1\", \"Topic2\", \"Topic2\", \"Topic2\", \"Topic2\", \"Topic2\", \"Topic2\", \"Topic2\", \"Topic2\", \"Topic2\", \"Topic2\", \"Topic2\", \"Topic2\", \"Topic2\", \"Topic2\", \"Topic2\", \"Topic2\", \"Topic2\", \"Topic2\", \"Topic2\", \"Topic2\", \"Topic2\", \"Topic2\", \"Topic2\", \"Topic2\", \"Topic2\", \"Topic2\", \"Topic2\", \"Topic2\", \"Topic2\", \"Topic2\", \"Topic3\", \"Topic3\", \"Topic3\", \"Topic3\", \"Topic3\", \"Topic3\", \"Topic3\", \"Topic3\", \"Topic3\", \"Topic3\", \"Topic3\", \"Topic3\", \"Topic3\", \"Topic3\", \"Topic3\", \"Topic3\", \"Topic3\", \"Topic3\", \"Topic3\", \"Topic3\", \"Topic3\", \"Topic3\", \"Topic3\", \"Topic3\", \"Topic3\", \"Topic3\", \"Topic3\", \"Topic3\", \"Topic3\", \"Topic3\", \"Topic3\", \"Topic3\", \"Topic3\", \"Topic3\", \"Topic3\", \"Topic3\", \"Topic4\", \"Topic4\", \"Topic4\", \"Topic4\", \"Topic4\", \"Topic4\", \"Topic4\", \"Topic4\", \"Topic4\", \"Topic4\", \"Topic4\", \"Topic4\", \"Topic4\", \"Topic4\", \"Topic4\", \"Topic4\", \"Topic4\", \"Topic4\", \"Topic4\", \"Topic4\", \"Topic4\", \"Topic4\", \"Topic4\", \"Topic4\", \"Topic4\", \"Topic4\", \"Topic4\", \"Topic4\", \"Topic4\", \"Topic4\", \"Topic4\", \"Topic4\", \"Topic4\", \"Topic4\", \"Topic4\", \"Topic4\", \"Topic5\", \"Topic5\", \"Topic5\", \"Topic5\", \"Topic5\", \"Topic5\", \"Topic5\", \"Topic5\", \"Topic5\", \"Topic5\", \"Topic5\", \"Topic5\", \"Topic5\", \"Topic5\", \"Topic5\", \"Topic5\", \"Topic5\", \"Topic5\", \"Topic5\", \"Topic5\", \"Topic5\", \"Topic5\", \"Topic5\", \"Topic5\", \"Topic5\", \"Topic5\", \"Topic5\", \"Topic5\", \"Topic5\", \"Topic5\", \"Topic5\", \"Topic6\", \"Topic6\", \"Topic6\", \"Topic6\", \"Topic6\", \"Topic6\", \"Topic6\", \"Topic6\", \"Topic6\", \"Topic6\", \"Topic6\", \"Topic6\", \"Topic6\", \"Topic6\", \"Topic6\", \"Topic6\", \"Topic6\", \"Topic6\", \"Topic6\", \"Topic6\", \"Topic6\", \"Topic6\", \"Topic6\", \"Topic6\", \"Topic6\", \"Topic6\", \"Topic6\", \"Topic6\", \"Topic6\", \"Topic6\", \"Topic7\", \"Topic7\", \"Topic7\", \"Topic7\", \"Topic7\", \"Topic7\", \"Topic7\", \"Topic7\", \"Topic7\", \"Topic7\", \"Topic7\", \"Topic7\", \"Topic7\", \"Topic7\", \"Topic7\", \"Topic7\", \"Topic7\", \"Topic7\", \"Topic7\", \"Topic7\", \"Topic7\", \"Topic7\", \"Topic7\", \"Topic7\", \"Topic7\", \"Topic7\", \"Topic7\", \"Topic7\", \"Topic7\", \"Topic7\", \"Topic7\", \"Topic7\", \"Topic7\", \"Topic7\"], \"logprob\": [30.0, 29.0, 28.0, 27.0, 26.0, 25.0, 24.0, 23.0, 22.0, 21.0, 20.0, 19.0, 18.0, 17.0, 16.0, 15.0, 14.0, 13.0, 12.0, 11.0, 10.0, 9.0, 8.0, 7.0, 6.0, 5.0, 4.0, 3.0, 2.0, 1.0, -1.5085999965667725, -1.888200044631958, -1.888200044631958, -2.4572999477386475, -2.7007999420166016, -2.7007999420166016, -3.6981000900268555, -3.7451999187469482, -3.950000047683716, -4.346799850463867, -4.346799850463867, -4.46560001373291, -4.536099910736084, -4.573699951171875, -4.573699951171875, -4.573699951171875, -4.573699951171875, -4.616199970245361, -4.616199970245361, -4.616199970245361, -4.686299800872803, -4.686299800872803, -4.686299800872803, -5.225200176239014, -5.906199932098389, -6.036300182342529, -6.036300182342529, -6.036300182342529, -6.036300182342529, -9.070199966430664, -9.070199966430664, -9.070199966430664, -9.054900169372559, -9.049699783325195, -0.5543000102043152, -2.90939998626709, -3.387399911880493, -3.4346001148223877, -3.4346001148223877, -3.491499900817871, -3.6498000621795654, -3.871999979019165, -4.022600173950195, -4.0883002281188965, -4.089099884033203, -4.089099884033203, -4.47760009765625, -4.495999813079834, -4.507900238037109, -4.747099876403809, -5.005300045013428, -5.005300045013428, -5.122499942779541, -5.1539998054504395, -5.16540002822876, -5.16540002822876, -5.291399955749512, -5.393899917602539, -5.393899917602539, -5.832799911499023, -5.833600044250488, -6.363500118255615, -6.679200172424316, -6.679200172424316, -1.3598999977111816, -1.6230000257492065, -2.351900100708008, -2.6152000427246094, -2.6166999340057373, -2.6357998847961426, -2.6357998847961426, -2.681999921798706, -3.8406999111175537, -4.666500091552734, -5.108699798583984, -5.108699798583984, -5.464200019836426, -5.671500205993652, -5.709000110626221, -5.709000110626221, -5.864099979400635, -5.93209981918335, -5.93209981918335, -6.467299938201904, -6.59060001373291, -6.769599914550781, -6.769599914550781, -6.769599914550781, -9.226900100708008, -9.226900100708008, -9.226900100708008, -9.226900100708008, -9.223799705505371, -9.226900100708008, -9.212800025939941, -9.217000007629395, -9.219400405883789, -9.219400405883789, -9.219900131225586, -9.22070026397705, -1.7304999828338623, -1.7625000476837158, -1.927899956703186, -2.1036999225616455, -2.3805999755859375, -2.882999897003174, -3.1930999755859375, -4.002299785614014, -4.002299785614014, -4.029600143432617, -4.147900104522705, -4.320499897003174, -4.337100028991699, -4.4028000831604, -4.6234002113342285, -4.8221001625061035, -4.8221001625061035, -4.8221001625061035, -4.957600116729736, -5.375899791717529, -5.417300224304199, -5.619800090789795, -5.652699947357178, -5.652699947357178, -5.968999862670898, -6.437399864196777, -6.768400192260742, -6.892300128936768, -9.340800285339355, -9.340800285339355, -9.340800285339355, -9.340800285339355, -9.323100090026855, -9.323100090026855, -9.273799896240234, -9.320300102233887, -1.3351999521255493, -2.7177000045776367, -2.7177000045776367, -2.7177000045776367, -2.988800048828125, -3.194000005722046, -3.2376999855041504, -3.3756000995635986, -3.405900001525879, -3.718600034713745, -3.8880999088287354, -3.8954999446868896, -3.9930999279022217, -4.02839994430542, -4.176499843597412, -4.279300212860107, -4.352499961853027, -4.382400035858154, -4.382400035858154, -4.461999893188477, -4.570199966430664, -4.570199966430664, -4.672399997711182, -4.735000133514404, -4.829999923706055, -4.904200077056885, -4.904200077056885, -4.957200050354004, -4.981400012969971, -5.028299808502197, -5.028299808502197, -1.3055000305175781, -1.791200041770935, -2.305000066757202, -2.502000093460083, -3.174799919128418, -3.4279000759124756, -3.8559000492095947, -3.8559000492095947, -3.8559000492095947, -3.8580000400543213, -3.9361000061035156, -4.190299987792969, -4.190299987792969, -4.2469000816345215, -4.347499847412109, -4.632299900054932, -4.748499870300293, -4.748499870300293, -4.748499870300293, -4.748499870300293, -5.010300159454346, -5.010300159454346, -5.049499988555908, -5.362199783325195, -5.428800106048584, -5.440299987792969, -5.440299987792969, -5.494800090789795, -5.494800090789795, -5.494800090789795, -1.8961000442504883, -2.3341000080108643, -2.683199882507324, -2.698899984359741, -2.7713000774383545, -2.7713000774383545, -2.7713000774383545, -2.7713000774383545, -3.365799903869629, -3.365799903869629, -3.365799903869629, -3.6291000843048096, -3.6291000843048096, -3.6291000843048096, -3.6291000843048096, -3.8022000789642334, -4.024199962615967, -4.024199962615967, -5.041999816894531, -5.116300106048584, -5.315199851989746, -5.315199851989746, -5.495500087738037, -5.701399803161621, -4.024199962615967, -6.0258002281188965, -6.1479997634887695, -8.410900115966797, -8.410900115966797, -8.410900115966797, -8.410900115966797, -8.330400466918945, -8.389800071716309, -8.352700233459473], \"loglift\": [30.0, 29.0, 28.0, 27.0, 26.0, 25.0, 24.0, 23.0, 22.0, 21.0, 20.0, 19.0, 18.0, 17.0, 16.0, 15.0, 14.0, 13.0, 12.0, 11.0, 10.0, 9.0, 8.0, 7.0, 6.0, 5.0, 4.0, 3.0, 2.0, 1.0, 1.6634999513626099, 1.662500023841858, 1.662500023841858, 1.660099983215332, 1.6585999727249146, 1.6585999727249146, 1.6467000246047974, 1.645799994468689, 1.6413999795913696, 1.6297999620437622, 1.6297999620437622, 1.6253999471664429, 1.6225999593734741, 1.621000051498413, 1.621000051498413, 1.621000051498413, 1.621000051498413, 1.6190999746322632, 1.6190999746322632, 1.6190999746322632, 1.6158000230789185, 1.6158000230789185, 1.6158000230789185, 1.5814000368118286, 1.506100058555603, 1.48580002784729, 1.48580002784729, 1.48580002784729, 1.48580002784729, -0.335099995136261, -0.335099995136261, -0.335099995136261, -0.7883999943733215, -1.663599967956543, 1.7115999460220337, 1.7031999826431274, 1.69760000705719, 1.6969000101089478, 1.6969000101089478, 1.6959999799728394, 1.6931999921798706, 1.6885000467300415, 1.6845999956130981, 1.6827000379562378, 1.6827000379562378, 1.6827000379562378, 1.6687999963760376, 1.6680999994277954, 1.6675000190734863, 1.6557999849319458, 1.639799952507019, 1.639799952507019, 1.63100004196167, 1.6283999681472778, 1.6276999711990356, 1.6276999711990356, 1.6167999505996704, 1.606600046157837, 1.606600046157837, 1.5533000230789185, 1.5525000095367432, 1.455299973487854, 1.374500036239624, 1.374500036239624, 1.7825000286102295, 1.7819000482559204, 1.7788000106811523, 1.7770999670028687, 1.7769999504089355, 1.776900053024292, 1.776900053024292, 1.7764999866485596, 1.7587000131607056, 1.7266000509262085, 1.6958999633789062, 1.6958999633789062, 1.6601999998092651, 1.6335999965667725, 1.6282000541687012, 1.6282000541687012, 1.6039999723434448, 1.5927000045776367, 1.5927000045776367, 1.4743000268936157, 1.4417999982833862, 1.3865000009536743, 1.3865000009536743, 1.3865000009536743, -0.4918000102043152, -0.4918000102043152, -0.4918000102043152, -0.4918000102043152, -0.6348999738693237, -0.6380000114440918, -0.9498999714851379, -2.598900079727173, -3.0439000129699707, -2.2156999111175537, -2.9516000747680664, -2.219399929046631, 1.9809000492095947, 1.9808000326156616, 1.9800000190734863, 1.9789999723434448, 1.9771000146865845, 1.9722000360488892, 1.9675999879837036, 1.9463000297546387, 1.9463000297546387, 1.9452999830245972, 1.9404000043869019, 1.9322999715805054, 1.9312000274658203, 1.927899956703186, 1.9142999649047852, 1.899399995803833, 1.899399995803833, 1.899399995803833, 1.8875999450683594, 1.8406000137329102, 1.8349000215530396, 1.8039000034332275, 1.7984000444412231, 1.7984000444412231, 1.7371000051498413, 1.6133999824523926, 1.4981000423431396, 1.4499000310897827, -0.6055999994277954, -0.6055999994277954, -0.6055999994277954, -0.6055999994277954, -0.9767000079154968, -0.9767000079154968, -3.2978999614715576, -4.078499794006348, 2.0202999114990234, 2.0118000507354736, 2.0118000507354736, 2.0118000507354736, 2.0083000659942627, 2.004699945449829, 2.0041000843048096, 2.0013999938964844, 2.000699996948242, 1.9925999641418457, 1.9871000051498413, 1.986899971961975, 1.9829000234603882, 1.9817999601364136, 1.9753999710083008, 1.9702999591827393, 1.9664000272750854, 1.9648000001907349, 1.9648000001907349, 1.9601000547409058, 1.9530999660491943, 1.9530999660491943, 1.9457000494003296, 1.940999984741211, 1.9333000183105469, 1.9266999959945679, 1.9266999959945679, 1.9214999675750732, 1.9164999723434448, 1.9144999980926514, 1.9144999980926514, 2.060699939727783, 2.059000015258789, 2.0559000968933105, 2.05430006980896, 2.045599937438965, 2.0404000282287598, 2.0283000469207764, 2.0283000469207764, 2.0283000469207764, 2.0283000469207764, 2.0255000591278076, 2.014699935913086, 2.014699935913086, 2.011899948120117, 2.006700038909912, 1.9886000156402588, 1.9797999858856201, 1.9797999858856201, 1.9797999858856201, 1.9797999858856201, 1.955899953842163, 1.955899953842163, 1.9519000053405762, 1.9139000177383423, 1.9041999578475952, 1.9026999473571777, 1.9026999473571777, 1.8945000171661377, 1.8945000171661377, 1.8945000171661377, 2.7083001136779785, 2.7030999660491943, 2.696899890899658, 2.6965999603271484, 2.694999933242798, 2.694999933242798, 2.694999933242798, 2.694999933242798, 2.6767001152038574, 2.6767001152038574, 2.6767001152038574, 2.664599895477295, 2.664599895477295, 2.664599895477295, 2.664599895477295, 2.6547999382019043, 2.639699935913086, 2.639699935913086, 2.5148000717163086, 2.500200033187866, 2.4584999084472656, 2.4584999084472656, 2.4142000675201416, 2.3564000129699707, 2.3094000816345215, 2.245500087738037, 2.197700023651123, 0.32429999113082886, 0.32429999113082886, 0.32429999113082886, 0.32429999113082886, -3.1315999031066895, -0.4903999865055084, -3.9948999881744385]}, \"token.table\": {\"Topic\": [6, 6, 1, 3, 2, 4, 4, 7, 2, 4, 6, 6, 5, 2, 4, 6, 4, 1, 2, 3, 1, 2, 7, 7, 3, 6, 2, 2, 6, 7, 7, 2, 1, 1, 4, 1, 2, 4, 2, 2, 7, 4, 5, 7, 4, 6, 1, 3, 3, 5, 2, 3, 7, 2, 5, 2, 2, 5, 7, 3, 1, 7, 2, 5, 5, 7, 1, 1, 5, 4, 5, 5, 3, 6, 2, 7, 6, 4, 3, 1, 5, 6, 4, 5, 4, 5, 5, 1, 2, 1, 1, 5, 7, 3, 3, 2, 4, 5, 3, 5, 7, 6, 2, 4, 6, 6, 7, 1, 3, 7, 3, 5, 6, 1, 4, 5, 3, 2, 7, 1, 3, 7, 7, 5, 6, 5, 3, 4, 1, 4, 5, 1, 6, 7, 7, 5, 6, 4, 4, 4, 2, 2, 2, 5, 6, 6, 2, 1, 6, 2, 6, 5, 1, 5, 6, 6, 3, 6, 1, 2, 5, 2, 1, 4, 6, 5, 6, 5, 1, 7, 4, 7, 3, 4, 7, 5, 5, 5, 5, 6, 5, 4, 5, 2, 1, 6, 7, 6, 1, 1, 4, 3, 5, 3, 2, 7, 3, 5, 6, 6, 7, 4, 1, 5, 5, 6, 3, 3, 2, 1, 4], \"Freq\": [0.9367120862007141, 0.9118096828460693, 0.8963258862495422, 0.6817110180854797, 0.9044427871704102, 0.9921212792396545, 0.5088347792625427, 0.7387994527816772, 0.7823814749717712, 0.9615604281425476, 0.7848292589187622, 0.9118096828460693, 0.9565047025680542, 0.932242214679718, 0.471727579832077, 0.9118096828460693, 0.8080023527145386, 0.8030872941017151, 0.8489463925361633, 0.8746849298477173, 0.9506509900093079, 0.4700212776660919, 0.9897093772888184, 0.9750885367393494, 0.9312635064125061, 0.9118096828460693, 0.9325926303863525, 0.8647294640541077, 0.2730858027935028, 0.6827145218849182, 0.9184662699699402, 0.9310663342475891, 0.9506509900093079, 0.984213650226593, 0.9933308959007263, 0.9281575679779053, 0.9797435998916626, 0.9756450653076172, 0.9991447329521179, 0.9732149839401245, 0.6603411436080933, 0.8349050879478455, 0.9415802955627441, 0.9933589100837708, 0.9530760645866394, 0.9099345207214355, 0.9506855607032776, 0.9018201231956482, 0.9312635064125061, 0.9884276390075684, 0.8647294640541077, 0.9910962581634521, 0.7657279372215271, 0.7823787927627563, 0.9971023201942444, 0.984933078289032, 0.984933078289032, 0.9866724610328674, 0.9695857763290405, 0.9895521402359009, 0.8963258862495422, 0.4739893674850464, 0.9893311262130737, 0.7537349462509155, 0.9386867880821228, 0.9268118739128113, 0.9954990148544312, 0.9642465114593506, 0.9074742794036865, 0.9938808083534241, 0.968867838382721, 0.9548810720443726, 0.9964596629142761, 0.9973323345184326, 0.9852680563926697, 0.9184662699699402, 0.99708491563797, 0.980651319026947, 0.9829638004302979, 0.9743161201477051, 0.9852951169013977, 0.9583829045295715, 0.9446183443069458, 0.9884276390075684, 0.9109950065612793, 0.7537349462509155, 0.9419084787368774, 0.9281575679779053, 0.9351254105567932, 0.9555146098136902, 0.9973317384719849, 0.9614691138267517, 0.8645566701889038, 0.7465792298316956, 0.9966502785682678, 0.9310663342475891, 0.8553736209869385, 0.94426029920578, 0.9900674819946289, 0.969656765460968, 0.9735417366027832, 0.5109999179840088, 0.9793940782546997, 0.9056869149208069, 0.8996213674545288, 0.9603083729743958, 0.9499406814575195, 0.9750479459762573, 0.8448466062545776, 0.8645566701889038, 0.8492581248283386, 0.6535835862159729, 0.8760570883750916, 0.876590371131897, 0.9056869149208069, 0.9078767895698547, 0.9419402480125427, 0.9887136816978455, 0.9695857763290405, 0.996641218662262, 0.8746849298477173, 0.9280027151107788, 0.9750885367393494, 0.9876515865325928, 0.9367120862007141, 0.9677991271018982, 0.8987589478492737, 0.9959951043128967, 0.9954990148544312, 0.9756450653076172, 0.9726288318634033, 0.9555146098136902, 0.5109999179840088, 0.9499406814575195, 0.9750885367393494, 0.878896951675415, 0.9868021607398987, 0.9210886359214783, 0.825390636920929, 0.9930381178855896, 0.97660893201828, 0.9732149839401245, 0.9512563347816467, 0.9884276390075684, 0.7848292589187622, 0.9412813186645508, 0.9624701142311096, 0.926144003868103, 0.9770989418029785, 0.9768712520599365, 0.8996213674545288, 0.9078767895698547, 0.996641218662262, 0.9526215195655823, 0.9605364799499512, 0.9273586869239807, 0.8448466062545776, 0.7848292589187622, 0.8963040113449097, 0.7626122832298279, 0.878896951675415, 0.932242214679718, 0.8963040113449097, 0.8123858571052551, 0.9605364799499512, 0.6511868834495544, 0.9583829045295715, 0.9497376084327698, 0.997719943523407, 0.9695857763290405, 0.8349050879478455, 0.9750885367393494, 0.9900674819946289, 0.7603968381881714, 0.9886341094970703, 0.9420175552368164, 0.7537349462509155, 0.7537349462509155, 0.8979910016059875, 0.9928162693977356, 0.8979910016059875, 0.9056869149208069, 0.9704500436782837, 0.9624888300895691, 0.9905974864959717, 0.9970722198486328, 0.5106269717216492, 0.9318413138389587, 0.9281575679779053, 0.9506509900093079, 0.9593340158462524, 0.9945281744003296, 0.9340325593948364, 0.9032981395721436, 0.7626122832298279, 0.9184662699699402, 0.8448466062545776, 0.8402867913246155, 0.9756544232368469, 0.9502796530723572, 0.9184662699699402, 0.9967960119247437, 0.926144003868103, 0.968867838382721, 0.6511884927749634, 0.9583829045295715, 0.8987589478492737, 0.9956353306770325, 0.9724413752555847, 0.926144003868103, 0.9538942575454712], \"Term\": [\"able\", \"act\", \"address\", \"advantage\", \"advise\", \"affect\", \"agree\", \"alone\", \"alright\", \"also\", \"annihilation\", \"apply\", \"attack\", \"bangladesh\", \"beat\", \"benefit\", \"bless\", \"blessing\", \"boring\", \"breakdown\", \"bug\", \"bussiness\", \"buy\", \"buyer\", \"cancellation\", \"care\", \"career\", \"category\", \"clearance\", \"clearance\", \"code\", \"consider\", \"conspiracy\", \"construction\", \"corona\", \"correct\", \"country\", \"course\", \"covid\", \"crisis\", \"curious\", \"current\", \"customer\", \"day\", \"decrease\", \"develop\", \"die\", \"difficult\", \"disappear\", \"discover\", \"discussion\", \"distribution\", \"do\", \"drop\", \"due\", \"early\", \"earning\", \"effect\", \"either\", \"else\", \"email\", \"exhausted\", \"experience\", \"face\", \"fee\", \"feel\", \"fighting\", \"first\", \"fiver\", \"fiverr\", \"forget\", \"free\", \"freelance\", \"freelancer\", \"freelancing\", \"friend\", \"fund\", \"game\", \"get\", \"gig\", \"go\", \"gonne\", \"good\", \"gouge\", \"guy\", \"half\", \"hand\", \"handwashing\", \"health\", \"heart\", \"help\", \"home\", \"idea\", \"illustration\", \"impact\", \"important\", \"increase\", \"industry\", \"isolation\", \"job\", \"join\", \"kidney\", \"kill\", \"know\", \"lack\", \"learn\", \"less\", \"let\", \"light\", \"likely\", \"lockdown\", \"lone\", \"long\", \"lose\", \"love\", \"lower\", \"make\", \"market\", \"mask\", \"maybe\", \"mental\", \"moodswing\", \"mostly\", \"new\", \"newcomer\", \"number\", \"offer\", \"order\", \"organization\", \"outbreak\", \"pandemic\", \"particluar\", \"patient\", \"payment\", \"people\", \"percentage\", \"period\", \"plan\", \"play\", \"playing\", \"poll\", \"positive\", \"post\", \"price\", \"probable\", \"problem\", \"productive\", \"publish\", \"quarantine\", \"question\", \"qurantime\", \"rate\", \"reason\", \"reduce\", \"regard\", \"related\", \"relief\", \"remady\", \"remember\", \"reminder\", \"removal\", \"report\", \"respect\", \"response\", \"review\", \"rotary\", \"rough\", \"safe\", \"sale\", \"sanitizer\", \"scope\", \"see\", \"self\", \"selling\", \"service\", \"situation\", \"slogan\", \"space\", \"spanish\", \"spread\", \"start\", \"stat\", \"stay\", \"still\", \"stop\", \"support\", \"surprising\", \"take\", \"technique\", \"theory\", \"think\", \"time\", \"tip\", \"tired\", \"today\", \"topic\", \"tough\", \"unemployment\", \"utilize\", \"vaccine\", \"video\", \"virus\", \"want\", \"wash\", \"way\", \"week\", \"weird\", \"work\", \"world\", \"worry\", \"would\"]}, \"R\": 30, \"lambda.step\": 0.01, \"plot.opts\": {\"xlab\": \"PC1\", \"ylab\": \"PC2\"}, \"topic.order\": [2, 6, 3, 7, 1, 4, 5]};\n",
       "\n",
       "function LDAvis_load_lib(url, callback){\n",
       "  var s = document.createElement('script');\n",
       "  s.src = url;\n",
       "  s.async = true;\n",
       "  s.onreadystatechange = s.onload = callback;\n",
       "  s.onerror = function(){console.warn(\"failed to load library \" + url);};\n",
       "  document.getElementsByTagName(\"head\")[0].appendChild(s);\n",
       "}\n",
       "\n",
       "if(typeof(LDAvis) !== \"undefined\"){\n",
       "   // already loaded: just create the visualization\n",
       "   !function(LDAvis){\n",
       "       new LDAvis(\"#\" + \"ldavis_el98761407029117661928858639555\", ldavis_el98761407029117661928858639555_data);\n",
       "   }(LDAvis);\n",
       "}else if(typeof define === \"function\" && define.amd){\n",
       "   // require.js is available: use it to load d3/LDAvis\n",
       "   require.config({paths: {d3: \"https://cdnjs.cloudflare.com/ajax/libs/d3/3.5.5/d3.min\"}});\n",
       "   require([\"d3\"], function(d3){\n",
       "      window.d3 = d3;\n",
       "      LDAvis_load_lib(\"https://cdn.rawgit.com/bmabey/pyLDAvis/files/ldavis.v1.0.0.js\", function(){\n",
       "        new LDAvis(\"#\" + \"ldavis_el98761407029117661928858639555\", ldavis_el98761407029117661928858639555_data);\n",
       "      });\n",
       "    });\n",
       "}else{\n",
       "    // require.js not available: dynamically load d3 & LDAvis\n",
       "    LDAvis_load_lib(\"https://cdnjs.cloudflare.com/ajax/libs/d3/3.5.5/d3.min.js\", function(){\n",
       "         LDAvis_load_lib(\"https://cdn.rawgit.com/bmabey/pyLDAvis/files/ldavis.v1.0.0.js\", function(){\n",
       "                 new LDAvis(\"#\" + \"ldavis_el98761407029117661928858639555\", ldavis_el98761407029117661928858639555_data);\n",
       "            })\n",
       "         });\n",
       "}\n",
       "</script>"
      ],
      "text/plain": [
       "PreparedData(topic_coordinates=              x         y  topics  cluster       Freq\n",
       "topic                                                \n",
       "1     -0.052196  0.078755       1        1  18.908138\n",
       "5     -0.094458 -0.420938       2        1  18.042250\n",
       "2     -0.424493 -0.150380       3        1  16.784742\n",
       "6     -0.327526  0.334208       4        1  13.739017\n",
       "0      0.304844 -0.315641       5        1  13.224188\n",
       "3      0.418769  0.067587       6        1  12.701023\n",
       "4      0.175060  0.406409       7        1   6.600645, topic_info=           Term        Freq       Total Category  logprob  loglift\n",
       "1         covid  855.000000  855.000000  Default  30.0000  30.0000\n",
       "12       impact  356.000000  356.000000  Default  29.0000  29.0000\n",
       "6    freelancer  284.000000  284.000000  Default  28.0000  28.0000\n",
       "66          due  287.000000  287.000000  Default  27.0000  27.0000\n",
       "11         sale  345.000000  345.000000  Default  26.0000  26.0000\n",
       "..          ...         ...         ...      ...      ...      ...\n",
       "34         face    0.121116    1.326726   Topic7  -8.4109   0.3243\n",
       "36         half    0.121116    1.326726   Topic7  -8.4109   0.3243\n",
       "89          new    0.131268   45.562626   Topic7  -8.3304  -3.1316\n",
       "179        lone    0.123691    3.060052   Topic7  -8.3898  -0.4904\n",
       "59       fiverr    0.128373  105.646469   Topic7  -8.3527  -3.9949\n",
       "\n",
       "[261 rows x 6 columns], token_table=      Topic      Freq       Term\n",
       "term                            \n",
       "5         6  0.936712       able\n",
       "141       6  0.911810        act\n",
       "152       1  0.896326    address\n",
       "230       3  0.681711  advantage\n",
       "229       2  0.904443     advise\n",
       "...     ...       ...        ...\n",
       "212       3  0.898759      weird\n",
       "151       3  0.995635       work\n",
       "79        2  0.972441      world\n",
       "163       1  0.926144      worry\n",
       "62        4  0.953894      would\n",
       "\n",
       "[211 rows x 3 columns], R=30, lambda_step=0.01, plot_opts={'xlab': 'PC1', 'ylab': 'PC2'}, topic_order=[2, 6, 3, 7, 1, 4, 5])"
      ]
     },
     "execution_count": 226,
     "metadata": {},
     "output_type": "execute_result"
    }
   ],
   "source": [
    "# Visualize the topics\n",
    "pyLDAvis.enable_notebook()\n",
    "vis = pyLDAvis.gensim.prepare(lda_model, corpus, id2word,  mds='mmds')\n",
    "vis"
   ]
  },
  {
   "cell_type": "code",
   "execution_count": 227,
   "metadata": {},
   "outputs": [],
   "source": [
    "pyLDAvis.save_html(vis, 'covid-19_discussions.html')"
   ]
  },
  {
   "cell_type": "markdown",
   "metadata": {},
   "source": [
    "#### Building LDA Mallet Model"
   ]
  },
  {
   "cell_type": "code",
   "execution_count": 221,
   "metadata": {},
   "outputs": [],
   "source": [
    "mallet_path = 'resources/mallet-2.0.8/bin/mallet'\n",
    "ldamallet = gensim.models.wrappers.LdaMallet(mallet_path, corpus=corpus, num_topics=7, id2word=id2word)"
   ]
  },
  {
   "cell_type": "code",
   "execution_count": 222,
   "metadata": {},
   "outputs": [
    {
     "name": "stdout",
     "output_type": "stream",
     "text": [
      "[(0,\n",
      "  [('freelancer', 0.30210325047801145),\n",
      "   ('support', 0.17877629063097514),\n",
      "   ('spread', 0.16730401529636713),\n",
      "   ('game', 0.09177820267686425),\n",
      "   ('playing', 0.07265774378585087),\n",
      "   ('situation', 0.02198852772466539),\n",
      "   ('newcomer', 0.016252390057361378),\n",
      "   ('market', 0.015296367112810707),\n",
      "   ('fund', 0.011472275334608031),\n",
      "   ('breakdown', 0.011472275334608031)]),\n",
      " (1,\n",
      "  [('sale', 0.4116022099447514),\n",
      "   ('reason', 0.37937384898710863),\n",
      "   ('covid', 0.15101289134438306),\n",
      "   ('rough', 0.01289134438305709),\n",
      "   ('correct', 0.006445672191528545),\n",
      "   ('rapid', 0.0055248618784530384),\n",
      "   ('removal', 0.004604051565377533),\n",
      "   ('utilize', 0.003683241252302026),\n",
      "   ('bless', 0.003683241252302026),\n",
      "   ('remady', 0.003683241252302026)]),\n",
      " (2,\n",
      "  [('fiverr', 0.11448834853090173),\n",
      "   ('time', 0.0911854103343465),\n",
      "   ('work', 0.08308004052684904),\n",
      "   ('day', 0.07497467071935157),\n",
      "   ('buy', 0.0668693009118541),\n",
      "   ('distribution', 0.06382978723404255),\n",
      "   ('join', 0.0364741641337386),\n",
      "   ('service', 0.0364741641337386),\n",
      "   ('buyer', 0.03343465045592705),\n",
      "   ('mask', 0.03343465045592705)]),\n",
      " (3,\n",
      "  [('impact', 0.43286573146292584),\n",
      "   ('freelance', 0.35971943887775554),\n",
      "   ('job', 0.01903807615230461),\n",
      "   ('crisis', 0.01903807615230461),\n",
      "   ('positive', 0.01903807615230461),\n",
      "   ('industry', 0.013026052104208416),\n",
      "   ('spanish', 0.012024048096192385),\n",
      "   ('start', 0.012024048096192385),\n",
      "   ('review', 0.01002004008016032),\n",
      "   ('gig', 0.009018036072144289)]),\n",
      " (4,\n",
      "  [('corona', 0.1678391959798995),\n",
      "   ('virus', 0.1306532663316583),\n",
      "   ('isolation', 0.10150753768844221),\n",
      "   ('order', 0.09949748743718594),\n",
      "   ('effect', 0.06633165829145729),\n",
      "   ('experience', 0.06432160804020101),\n",
      "   ('kill', 0.035175879396984924),\n",
      "   ('number', 0.02512562814070352),\n",
      "   ('customer', 0.023115577889447236),\n",
      "   ('decrease', 0.021105527638190954)]),\n",
      " (5,\n",
      "  [('affect', 0.18787878787878787),\n",
      "   ('due', 0.1808080808080808),\n",
      "   ('fund', 0.09292929292929293),\n",
      "   ('discover', 0.051515151515151514),\n",
      "   ('gouge', 0.051515151515151514),\n",
      "   ('price', 0.049494949494949494),\n",
      "   ('fighting', 0.048484848484848485),\n",
      "   ('organization', 0.048484848484848485),\n",
      "   ('pandemic', 0.04242424242424243),\n",
      "   ('period', 0.03535353535353535)]),\n",
      " (6,\n",
      "  [('covid', 0.7509578544061303),\n",
      "   ('poll', 0.038314176245210725),\n",
      "   ('attack', 0.028735632183908046),\n",
      "   ('sale', 0.028735632183908046),\n",
      "   ('question', 0.027777777777777776),\n",
      "   ('discussion', 0.023946360153256706),\n",
      "   ('category', 0.023946360153256706),\n",
      "   ('world', 0.013409961685823755),\n",
      "   ('earning', 0.012452107279693486),\n",
      "   ('sell', 0.009578544061302681)])]\n",
      "\n",
      "Coherence Score:  0.6446512045018788\n"
     ]
    }
   ],
   "source": [
    "# Show Topics\n",
    "pprint(ldamallet.show_topics(formatted=False))\n",
    "\n",
    "# Compute Coherence Score\n",
    "coherence_model_ldamallet = CoherenceModel(model=ldamallet, texts=data_lemmatized, dictionary=id2word, coherence='c_v')\n",
    "coherence_ldamallet = coherence_model_ldamallet.get_coherence()\n",
    "print('\\nCoherence Score: ', coherence_ldamallet)"
   ]
  },
  {
   "cell_type": "markdown",
   "metadata": {},
   "source": [
    "#### Finding optimal number of topics"
   ]
  },
  {
   "cell_type": "code",
   "execution_count": 212,
   "metadata": {},
   "outputs": [],
   "source": [
    "def compute_coherence_values(dictionary, corpus, texts, limit, start=2, step=3):\n",
    "    coherence_values = []\n",
    "    model_list = []\n",
    "    for num_topics in range(start, limit, step):\n",
    "        model = gensim.models.wrappers.LdaMallet(mallet_path, corpus=corpus, num_topics=num_topics, id2word=id2word)\n",
    "        model_list.append(model)\n",
    "        coherencemodel = CoherenceModel(model=model, texts=texts, dictionary=dictionary, coherence='c_v')\n",
    "        coherence_values.append(coherencemodel.get_coherence())\n",
    "\n",
    "    return model_list, coherence_values"
   ]
  },
  {
   "cell_type": "code",
   "execution_count": 216,
   "metadata": {},
   "outputs": [],
   "source": [
    "model_list, coherence_values = compute_coherence_values(dictionary=id2word, corpus=corpus, texts=data_lemmatized, start=2, limit=40, step=1)"
   ]
  },
  {
   "cell_type": "code",
   "execution_count": 218,
   "metadata": {},
   "outputs": [
    {
     "data": {
      "image/png": "[encoded data removed]",
      "text/plain": [
       "<Figure size 432x288 with 1 Axes>"
      ]
     },
     "metadata": {
      "needs_background": "light"
     },
     "output_type": "display_data"
    }
   ],
   "source": [
    "# Graph\n",
    "limit=40; start=2; step=1;\n",
    "x = range(start, limit, step)\n",
    "plt.plot(x, coherence_values)\n",
    "plt.xlabel(\"Num Topics\")\n",
    "plt.ylabel(\"Coherence score\")\n",
    "plt.legend((\"coherence_values\"), loc='best')\n",
    "plt.show()"
   ]
  },
  {
   "cell_type": "code",
   "execution_count": 219,
   "metadata": {},
   "outputs": [
    {
     "name": "stdout",
     "output_type": "stream",
     "text": [
      "Num Topics = 2  has Coherence Value of 0.6053\n",
      "Num Topics = 3  has Coherence Value of 0.6179\n",
      "Num Topics = 4  has Coherence Value of 0.6444\n",
      "Num Topics = 5  has Coherence Value of 0.6577\n",
      "Num Topics = 6  has Coherence Value of 0.6603\n",
      "Num Topics = 7  has Coherence Value of 0.6673\n",
      "Num Topics = 8  has Coherence Value of 0.6355\n",
      "Num Topics = 9  has Coherence Value of 0.6667\n",
      "Num Topics = 10  has Coherence Value of 0.6624\n",
      "Num Topics = 11  has Coherence Value of 0.6408\n",
      "Num Topics = 12  has Coherence Value of 0.646\n",
      "Num Topics = 13  has Coherence Value of 0.6496\n",
      "Num Topics = 14  has Coherence Value of 0.6404\n",
      "Num Topics = 15  has Coherence Value of 0.643\n",
      "Num Topics = 16  has Coherence Value of 0.6433\n",
      "Num Topics = 17  has Coherence Value of 0.6474\n",
      "Num Topics = 18  has Coherence Value of 0.6344\n",
      "Num Topics = 19  has Coherence Value of 0.6313\n",
      "Num Topics = 20  has Coherence Value of 0.6303\n",
      "Num Topics = 21  has Coherence Value of 0.6257\n",
      "Num Topics = 22  has Coherence Value of 0.6323\n",
      "Num Topics = 23  has Coherence Value of 0.6054\n",
      "Num Topics = 24  has Coherence Value of 0.6313\n",
      "Num Topics = 25  has Coherence Value of 0.6143\n",
      "Num Topics = 26  has Coherence Value of 0.6089\n",
      "Num Topics = 27  has Coherence Value of 0.6082\n",
      "Num Topics = 28  has Coherence Value of 0.6117\n",
      "Num Topics = 29  has Coherence Value of 0.6099\n",
      "Num Topics = 30  has Coherence Value of 0.5993\n",
      "Num Topics = 31  has Coherence Value of 0.612\n",
      "Num Topics = 32  has Coherence Value of 0.6024\n",
      "Num Topics = 33  has Coherence Value of 0.5977\n",
      "Num Topics = 34  has Coherence Value of 0.5965\n",
      "Num Topics = 35  has Coherence Value of 0.5936\n",
      "Num Topics = 36  has Coherence Value of 0.5984\n",
      "Num Topics = 37  has Coherence Value of 0.5986\n",
      "Num Topics = 38  has Coherence Value of 0.5997\n",
      "Num Topics = 39  has Coherence Value of 0.5874\n",
      "Max = 7\n"
     ]
    }
   ],
   "source": [
    "dict = {}\n",
    "# Print the coherence scores\n",
    "for m, cv in zip(x, coherence_values):\n",
    "    print(\"Num Topics =\", m, \" has Coherence Value of\", round(cv, 4))\n",
    "    dict[m] = round(cv,4)\n",
    "print(\"Max = \" + str(max(dict, key=dict.get)))"
   ]
  },
  {
   "cell_type": "code",
   "execution_count": null,
   "metadata": {},
   "outputs": [],
   "source": [
    "# Select the model and print the topics\n",
    "optimal_model = model_list[18]\n",
    "model_topics = optimal_model.show_topics(formatted=False)\n",
    "pprint(optimal_model.print_topics(num_words=10))"
   ]
  },
  {
   "cell_type": "code",
   "execution_count": null,
   "metadata": {},
   "outputs": [],
   "source": [
    "#### Finding the dominant topic in each sentence"
   ]
  },
  {
   "cell_type": "code",
   "execution_count": null,
   "metadata": {},
   "outputs": [],
   "source": [
    "#### Find the most representative document for each topic"
   ]
  },
  {
   "cell_type": "code",
   "execution_count": null,
   "metadata": {},
   "outputs": [],
   "source": [
    "#### Topic distribution across documents"
   ]
  }
 ],
 "metadata": {
  "kernelspec": {
   "display_name": "Python 3",
   "language": "python",
   "name": "python3"
  },
  "language_info": {
   "codemirror_mode": {
    "name": "ipython",
    "version": 3
   },
   "file_extension": ".py",
   "mimetype": "text/x-python",
   "name": "python",
   "nbconvert_exporter": "python",
   "pygments_lexer": "ipython3",
   "version": "3.8.3"
  }
 },
 "nbformat": 4,
 "nbformat_minor": 4
}
